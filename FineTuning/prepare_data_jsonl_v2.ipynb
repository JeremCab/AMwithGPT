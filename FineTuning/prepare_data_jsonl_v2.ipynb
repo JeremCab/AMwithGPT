{
 "cells": [
  {
   "cell_type": "markdown",
   "id": "9b092f16-851d-4a47-ae4f-2a85603d6c77",
   "metadata": {},
   "source": [
    "# Prepare dataset (jsonl file)"
   ]
  },
  {
   "cell_type": "markdown",
   "id": "f10f70f3",
   "metadata": {},
   "source": [
    "- Prepare datasets for fine-tuning GPT-3.5-turbo with **features as text** and **all-in-one strategy**.\n",
    "\n",
    "- Here, the argument component (AC), its essay as well as its structural features are given.\n",
    "\n",
    "- We create the data files: `data_train_v2.jsonl`, `data_val_v2.jsonl`, `data_test_v2.jsonl`"
   ]
  },
  {
   "cell_type": "markdown",
   "id": "afdfbf4b-663f-41af-85a1-266a48239c9e",
   "metadata": {},
   "source": [
    "## Libraries"
   ]
  },
  {
   "cell_type": "code",
   "execution_count": 1,
   "id": "872238e4-5235-4176-bd84-4cc384bca8d4",
   "metadata": {},
   "outputs": [],
   "source": [
    "import os\n",
    "import json\n",
    "import pandas as pd\n",
    "import random"
   ]
  },
  {
   "cell_type": "markdown",
   "id": "7af75678-bbcc-4cfa-9b81-c9a66d170182",
   "metadata": {},
   "source": [
    "## Load csv file"
   ]
  },
  {
   "cell_type": "code",
   "execution_count": 2,
   "id": "0da5ee17-0803-41cc-91c9-1cec32f672d4",
   "metadata": {},
   "outputs": [],
   "source": [
    "data_dir = os.path.join(os.getcwd(), \"data\")"
   ]
  },
  {
   "cell_type": "code",
   "execution_count": 3,
   "id": "54f71f0d-b9eb-499d-b9a4-fd010bc6d874",
   "metadata": {},
   "outputs": [],
   "source": [
    "df = pd.read_csv(os.path.join(data_dir, \"persuasive_essays_dataset.csv\"), index_col=0)"
   ]
  },
  {
   "cell_type": "code",
   "execution_count": 4,
   "id": "7931292a-fd5c-4f8e-a9e8-24b5f5a16d4b",
   "metadata": {},
   "outputs": [],
   "source": [
    "# df.isna().sum()"
   ]
  },
  {
   "cell_type": "code",
   "execution_count": 5,
   "id": "6718a38d-9608-475c-9584-0976b928ea30",
   "metadata": {},
   "outputs": [
    {
     "data": {
      "text/html": [
       "<div>\n",
       "<style scoped>\n",
       "    .dataframe tbody tr th:only-of-type {\n",
       "        vertical-align: middle;\n",
       "    }\n",
       "\n",
       "    .dataframe tbody tr th {\n",
       "        vertical-align: top;\n",
       "    }\n",
       "\n",
       "    .dataframe thead th {\n",
       "        text-align: right;\n",
       "    }\n",
       "</style>\n",
       "<table border=\"1\" class=\"dataframe\">\n",
       "  <thead>\n",
       "    <tr style=\"text-align: right;\">\n",
       "      <th></th>\n",
       "      <th>tag</th>\n",
       "      <th>label</th>\n",
       "      <th>start</th>\n",
       "      <th>end</th>\n",
       "      <th>argument_component</th>\n",
       "      <th>essay_file</th>\n",
       "      <th>essay_title</th>\n",
       "      <th>essay_text</th>\n",
       "      <th>sentence</th>\n",
       "      <th>nr_essay_paragraphs</th>\n",
       "      <th>paragraph_nr</th>\n",
       "      <th>paragraph</th>\n",
       "      <th>is_component_in_intro_paragraph</th>\n",
       "      <th>is_component_in_conclusion_paragraph</th>\n",
       "      <th>is_component_first_in_paragraph</th>\n",
       "      <th>is_component_last_in_paragraph</th>\n",
       "      <th>split</th>\n",
       "      <th>structral_featxt</th>\n",
       "      <th>argument_counter</th>\n",
       "    </tr>\n",
       "  </thead>\n",
       "  <tbody>\n",
       "    <tr>\n",
       "      <th>0</th>\n",
       "      <td>T1</td>\n",
       "      <td>MajorClaim</td>\n",
       "      <td>503</td>\n",
       "      <td>575</td>\n",
       "      <td>we should attach more importance to cooperatio...</td>\n",
       "      <td>essay001.txt</td>\n",
       "      <td>Should students be taught to compete or to coo...</td>\n",
       "      <td>Should students be taught to compete or to coo...</td>\n",
       "      <td>From this point of view, I firmly believe that...</td>\n",
       "      <td>4</td>\n",
       "      <td>1</td>\n",
       "      <td>It is always said that competition can effecti...</td>\n",
       "      <td>1</td>\n",
       "      <td>0</td>\n",
       "      <td>1</td>\n",
       "      <td>1</td>\n",
       "      <td>TRAIN</td>\n",
       "      <td>Topic: Should students be taught to compete or...</td>\n",
       "      <td>1</td>\n",
       "    </tr>\n",
       "    <tr>\n",
       "      <th>1</th>\n",
       "      <td>T3</td>\n",
       "      <td>Claim</td>\n",
       "      <td>591</td>\n",
       "      <td>714</td>\n",
       "      <td>through cooperation, children can learn about ...</td>\n",
       "      <td>essay001.txt</td>\n",
       "      <td>Should students be taught to compete or to coo...</td>\n",
       "      <td>Should students be taught to compete or to coo...</td>\n",
       "      <td>First of all, through cooperation, children ca...</td>\n",
       "      <td>4</td>\n",
       "      <td>2</td>\n",
       "      <td>First of all, through cooperation, children ca...</td>\n",
       "      <td>0</td>\n",
       "      <td>0</td>\n",
       "      <td>1</td>\n",
       "      <td>0</td>\n",
       "      <td>TRAIN</td>\n",
       "      <td>Topic: Should students be taught to compete or...</td>\n",
       "      <td>2</td>\n",
       "    </tr>\n",
       "    <tr>\n",
       "      <th>2</th>\n",
       "      <td>T4</td>\n",
       "      <td>Premise</td>\n",
       "      <td>716</td>\n",
       "      <td>851</td>\n",
       "      <td>What we acquired from team work is not only ho...</td>\n",
       "      <td>essay001.txt</td>\n",
       "      <td>Should students be taught to compete or to coo...</td>\n",
       "      <td>Should students be taught to compete or to coo...</td>\n",
       "      <td>What we acquired from team work is not only ho...</td>\n",
       "      <td>4</td>\n",
       "      <td>2</td>\n",
       "      <td>First of all, through cooperation, children ca...</td>\n",
       "      <td>0</td>\n",
       "      <td>0</td>\n",
       "      <td>0</td>\n",
       "      <td>0</td>\n",
       "      <td>TRAIN</td>\n",
       "      <td>Topic: Should students be taught to compete or...</td>\n",
       "      <td>3</td>\n",
       "    </tr>\n",
       "    <tr>\n",
       "      <th>3</th>\n",
       "      <td>T5</td>\n",
       "      <td>Premise</td>\n",
       "      <td>853</td>\n",
       "      <td>1086</td>\n",
       "      <td>During the process of cooperation, children ca...</td>\n",
       "      <td>essay001.txt</td>\n",
       "      <td>Should students be taught to compete or to coo...</td>\n",
       "      <td>Should students be taught to compete or to coo...</td>\n",
       "      <td>During the process of cooperation, children ca...</td>\n",
       "      <td>4</td>\n",
       "      <td>2</td>\n",
       "      <td>First of all, through cooperation, children ca...</td>\n",
       "      <td>0</td>\n",
       "      <td>0</td>\n",
       "      <td>0</td>\n",
       "      <td>0</td>\n",
       "      <td>TRAIN</td>\n",
       "      <td>Topic: Should students be taught to compete or...</td>\n",
       "      <td>4</td>\n",
       "    </tr>\n",
       "    <tr>\n",
       "      <th>4</th>\n",
       "      <td>T6</td>\n",
       "      <td>Premise</td>\n",
       "      <td>1088</td>\n",
       "      <td>1191</td>\n",
       "      <td>All of these skills help them to get on well w...</td>\n",
       "      <td>essay001.txt</td>\n",
       "      <td>Should students be taught to compete or to coo...</td>\n",
       "      <td>Should students be taught to compete or to coo...</td>\n",
       "      <td>All of these skills help them to get on well w...</td>\n",
       "      <td>4</td>\n",
       "      <td>2</td>\n",
       "      <td>First of all, through cooperation, children ca...</td>\n",
       "      <td>0</td>\n",
       "      <td>0</td>\n",
       "      <td>0</td>\n",
       "      <td>1</td>\n",
       "      <td>TRAIN</td>\n",
       "      <td>Topic: Should students be taught to compete or...</td>\n",
       "      <td>5</td>\n",
       "    </tr>\n",
       "  </tbody>\n",
       "</table>\n",
       "</div>"
      ],
      "text/plain": [
       "  tag       label  start   end  \\\n",
       "0  T1  MajorClaim    503   575   \n",
       "1  T3       Claim    591   714   \n",
       "2  T4     Premise    716   851   \n",
       "3  T5     Premise    853  1086   \n",
       "4  T6     Premise   1088  1191   \n",
       "\n",
       "                                  argument_component    essay_file  \\\n",
       "0  we should attach more importance to cooperatio...  essay001.txt   \n",
       "1  through cooperation, children can learn about ...  essay001.txt   \n",
       "2  What we acquired from team work is not only ho...  essay001.txt   \n",
       "3  During the process of cooperation, children ca...  essay001.txt   \n",
       "4  All of these skills help them to get on well w...  essay001.txt   \n",
       "\n",
       "                                         essay_title  \\\n",
       "0  Should students be taught to compete or to coo...   \n",
       "1  Should students be taught to compete or to coo...   \n",
       "2  Should students be taught to compete or to coo...   \n",
       "3  Should students be taught to compete or to coo...   \n",
       "4  Should students be taught to compete or to coo...   \n",
       "\n",
       "                                          essay_text  \\\n",
       "0  Should students be taught to compete or to coo...   \n",
       "1  Should students be taught to compete or to coo...   \n",
       "2  Should students be taught to compete or to coo...   \n",
       "3  Should students be taught to compete or to coo...   \n",
       "4  Should students be taught to compete or to coo...   \n",
       "\n",
       "                                            sentence  nr_essay_paragraphs  \\\n",
       "0  From this point of view, I firmly believe that...                    4   \n",
       "1  First of all, through cooperation, children ca...                    4   \n",
       "2  What we acquired from team work is not only ho...                    4   \n",
       "3  During the process of cooperation, children ca...                    4   \n",
       "4  All of these skills help them to get on well w...                    4   \n",
       "\n",
       "   paragraph_nr                                          paragraph  \\\n",
       "0             1  It is always said that competition can effecti...   \n",
       "1             2  First of all, through cooperation, children ca...   \n",
       "2             2  First of all, through cooperation, children ca...   \n",
       "3             2  First of all, through cooperation, children ca...   \n",
       "4             2  First of all, through cooperation, children ca...   \n",
       "\n",
       "   is_component_in_intro_paragraph  is_component_in_conclusion_paragraph  \\\n",
       "0                                1                                     0   \n",
       "1                                0                                     0   \n",
       "2                                0                                     0   \n",
       "3                                0                                     0   \n",
       "4                                0                                     0   \n",
       "\n",
       "   is_component_first_in_paragraph  is_component_last_in_paragraph  split  \\\n",
       "0                                1                               1  TRAIN   \n",
       "1                                1                               0  TRAIN   \n",
       "2                                0                               0  TRAIN   \n",
       "3                                0                               0  TRAIN   \n",
       "4                                0                               1  TRAIN   \n",
       "\n",
       "                                    structral_featxt  argument_counter  \n",
       "0  Topic: Should students be taught to compete or...                 1  \n",
       "1  Topic: Should students be taught to compete or...                 2  \n",
       "2  Topic: Should students be taught to compete or...                 3  \n",
       "3  Topic: Should students be taught to compete or...                 4  \n",
       "4  Topic: Should students be taught to compete or...                 5  "
      ]
     },
     "execution_count": 5,
     "metadata": {},
     "output_type": "execute_result"
    }
   ],
   "source": [
    "df.head()"
   ]
  },
  {
   "cell_type": "code",
   "execution_count": 6,
   "id": "fdd9688b-e03a-40c9-9fac-e77ccc017b3c",
   "metadata": {},
   "outputs": [
    {
     "data": {
      "text/plain": [
       "6089"
      ]
     },
     "execution_count": 6,
     "metadata": {},
     "output_type": "execute_result"
    }
   ],
   "source": [
    "len(df)"
   ]
  },
  {
   "cell_type": "code",
   "execution_count": 7,
   "id": "3e06a175-4f49-4a4d-881c-95a6b1bda7b2",
   "metadata": {},
   "outputs": [
    {
     "data": {
      "text/plain": [
       "split\n",
       "TRAIN    4823\n",
       "TEST     1266\n",
       "Name: count, dtype: int64"
      ]
     },
     "execution_count": 7,
     "metadata": {},
     "output_type": "execute_result"
    }
   ],
   "source": [
    "df.split.value_counts()"
   ]
  },
  {
   "cell_type": "code",
   "execution_count": 8,
   "id": "da9e707d-901e-4f03-884e-cec8ce182640",
   "metadata": {},
   "outputs": [
    {
     "data": {
      "text/plain": [
       "322"
      ]
     },
     "execution_count": 8,
     "metadata": {},
     "output_type": "execute_result"
    }
   ],
   "source": [
    "train_essays_l = list(df[df.split==\"TRAIN\"].essay_file.value_counts().index)\n",
    "len(train_essays_l)"
   ]
  },
  {
   "cell_type": "code",
   "execution_count": 9,
   "id": "86135f26-11d3-4325-a2d8-74438092c681",
   "metadata": {},
   "outputs": [
    {
     "data": {
      "text/plain": [
       "32"
      ]
     },
     "execution_count": 9,
     "metadata": {},
     "output_type": "execute_result"
    }
   ],
   "source": [
    "# validation set: 10% of train set\n",
    "\n",
    "val_size = int(322 * 10/100)\n",
    "val_size"
   ]
  },
  {
   "cell_type": "code",
   "execution_count": 10,
   "id": "37c7355a-4bb7-4a75-a277-108f27c6a8de",
   "metadata": {},
   "outputs": [],
   "source": [
    "random.seed(42)\n",
    "val_essays_l = random.sample(train_essays_l, val_size)"
   ]
  },
  {
   "cell_type": "code",
   "execution_count": 11,
   "id": "e91177bd-2dc6-4019-ab83-2a4df2365823",
   "metadata": {},
   "outputs": [
    {
     "data": {
      "text/plain": [
       "32"
      ]
     },
     "execution_count": 11,
     "metadata": {},
     "output_type": "execute_result"
    }
   ],
   "source": [
    "len(val_essays_l)\n",
    "# val_essays_l"
   ]
  },
  {
   "cell_type": "code",
   "execution_count": 12,
   "id": "274e77db-4c4f-4a2e-a615-fc12fb5e991c",
   "metadata": {},
   "outputs": [
    {
     "data": {
      "text/plain": [
       "290"
      ]
     },
     "execution_count": 12,
     "metadata": {},
     "output_type": "execute_result"
    }
   ],
   "source": [
    "train_essays_l = list(set(train_essays_l) - set(val_essays_l))\n",
    "len(train_essays_l)"
   ]
  },
  {
   "cell_type": "markdown",
   "id": "63a578e2-63f5-4860-965c-ef5e659149a7",
   "metadata": {},
   "source": [
    "## Prepare prompt"
   ]
  },
  {
   "cell_type": "code",
   "execution_count": 13,
   "id": "f02ffd05-4249-4830-9752-5b96c2d48d27",
   "metadata": {},
   "outputs": [],
   "source": [
    "# Dataset in chat completion format\n",
    "\n",
    "def formatting_fct(task_description=\"\", question=\"\", answer=\"\", mode=\"train\"):\n",
    "    \n",
    "    prompt_d = {\"messages\": [\n",
    "        {\"role\": \"system\", \"content\": f\"{task_description}\"},\n",
    "        {\"role\": \"user\", \"content\": f\"{question}\"},\n",
    "        {\"role\": \"assistant\", \"content\": f\"{answer if mode=='train' else ''}\"}\n",
    "    ]\n",
    "             }\n",
    "    \n",
    "    return prompt_d"
   ]
  },
  {
   "cell_type": "code",
   "execution_count": 14,
   "id": "427b49a6-e02e-4bcc-a8c2-defbc87157d9",
   "metadata": {},
   "outputs": [],
   "source": [
    "my_task_description = \"\"\"### Your task is to classify an arguement component from an essay into three possible classes: major claim, claim, or premise. For this purpose, we give you the following information in order:\n",
    "1. The argument component itself\n",
    "2. The topic of the essay\n",
    "3. The complete sentence of this argument component\n",
    "4. Positional information of this argument component\n",
    "\"\"\""
   ]
  },
  {
   "cell_type": "code",
   "execution_count": 15,
   "id": "9d3f085d-1921-4e57-adbd-dbfd8bd2d386",
   "metadata": {},
   "outputs": [
    {
     "name": "stdout",
     "output_type": "stream",
     "text": [
      "### Your task is to classify an arguement component from an essay into three possible classes: major claim, claim, or premise. For this purpose, we give you the following information in order:\n",
      "1. The argument component itself\n",
      "2. The topic of the essay\n",
      "3. The complete sentence of this argument component\n",
      "4. Positional information of this argument component\n",
      "\n"
     ]
    }
   ],
   "source": [
    "print(my_task_description)"
   ]
  },
  {
   "cell_type": "code",
   "execution_count": 16,
   "id": "d20e3572-7cd3-48bd-b21a-5df9cfe19bda",
   "metadata": {},
   "outputs": [],
   "source": [
    "def bool_to_text(b):\n",
    "    \n",
    "    return \"yes\" if b == 1 else \"no\""
   ]
  },
  {
   "cell_type": "code",
   "execution_count": 26,
   "id": "2d4526d5-1263-41d0-b96a-7d379c29c3c6",
   "metadata": {},
   "outputs": [],
   "source": [
    "def build_question(argument_component, contextual_fts, structural_fts):\n",
    "    \n",
    "    question = f\"\"\"### Here is the information about the argument component:\n",
    "1. Argument component: {argument_component}\n",
    "2. Topic: {contextual_fts[0]}\n",
    "3. Complete sentence: {contextual_fts[1]}\n",
    "4. Positional information: Paragraph number: {structural_fts[0]}. Is it in the introduction paragraph: {bool_to_text(structural_fts[1])}. Is it in the conclusion paragraph: {bool_to_text(structural_fts[2])}. Is it the first component of its paragraph: {bool_to_text(structural_fts[3])}. Is it the last component of its paragraph: {bool_to_text(structural_fts[4])}.\n",
    "Is the argument compoment given in point 1 a major claim, a claim, or a premise? No other answer besides these three is accepted.\n",
    "\"\"\"\n",
    "    \n",
    "    return question"
   ]
  },
  {
   "cell_type": "code",
   "execution_count": 27,
   "id": "cc45a09b-43a4-4eaa-a35e-24c54de65f3b",
   "metadata": {},
   "outputs": [
    {
     "data": {
      "text/plain": [
       "Index(['tag', 'label', 'start', 'end', 'argument_component', 'essay_file',\n",
       "       'essay_title', 'essay_text', 'sentence', 'nr_essay_paragraphs',\n",
       "       'paragraph_nr', 'paragraph', 'is_component_in_intro_paragraph',\n",
       "       'is_component_in_conclusion_paragraph',\n",
       "       'is_component_first_in_paragraph', 'is_component_last_in_paragraph',\n",
       "       'split', 'structral_featxt', 'argument_counter'],\n",
       "      dtype='object')"
      ]
     },
     "execution_count": 27,
     "metadata": {},
     "output_type": "execute_result"
    }
   ],
   "source": [
    "df.columns"
   ]
  },
  {
   "cell_type": "code",
   "execution_count": 28,
   "id": "f95e7b2f-6436-4c52-aca2-80f4b6c9ed94",
   "metadata": {},
   "outputs": [
    {
     "name": "stdout",
     "output_type": "stream",
     "text": [
      "### Here is the information about the argument component:\n",
      "1. Argument component: we should attach more importance to cooperation during primary education\n",
      "2. Topic: Should students be taught to compete or to cooperate?\n",
      "3. Complete sentence: From this point of view, I firmly believe that we should attach more importance to cooperation during primary education.\n",
      "4. Positional information: Paragraph number: 1. Is it in the introduction paragraph: yes. Is it in the conclusion paragraph: no. Is it the first component of its paragraph: yes. Is it the last component of its paragraph: yes.\n",
      "Is the argument compoment given in point 1 a major claim, a claim, or a premise? No other answer besides these three is accepted.\n",
      "\n"
     ]
    }
   ],
   "source": [
    "argument_component = df.iloc[0].argument_component\n",
    "contextual_fts = (df.iloc[0].essay_title, df.iloc[0].sentence)\n",
    "structural_fts = (df.iloc[0].paragraph_nr, \n",
    "                  df.iloc[0].is_component_in_intro_paragraph, \n",
    "                  df.iloc[0].is_component_in_conclusion_paragraph,\n",
    "                  df.iloc[0].is_component_first_in_paragraph,\n",
    "                  df.iloc[0].is_component_last_in_paragraph)\n",
    "\n",
    "question = build_question(argument_component, contextual_fts, structural_fts)\n",
    "print(question)"
   ]
  },
  {
   "cell_type": "code",
   "execution_count": 29,
   "id": "7cbf4933-227b-4895-8fc4-b07020d3b66b",
   "metadata": {},
   "outputs": [],
   "source": [
    "def build_answer(x):\n",
    "    \n",
    "    if x == \"MajorClaim\":\n",
    "        return \"major claim\"\n",
    "    \n",
    "    elif x == \"Claim\":\n",
    "        return \"claim\"\n",
    "    \n",
    "    elif x == \"Premise\":\n",
    "        return \"premise\""
   ]
  },
  {
   "cell_type": "code",
   "execution_count": 30,
   "id": "3675a7b1-72cd-42bc-aeed-9a48c16d88be",
   "metadata": {},
   "outputs": [
    {
     "name": "stdout",
     "output_type": "stream",
     "text": [
      "major claim\n"
     ]
    }
   ],
   "source": [
    "answer = build_answer(df.iloc[0].label)\n",
    "print(answer)"
   ]
  },
  {
   "cell_type": "code",
   "execution_count": 31,
   "id": "919a1870-1ae1-4491-a06e-c90ebb2aaad4",
   "metadata": {},
   "outputs": [
    {
     "name": "stdout",
     "output_type": "stream",
     "text": [
      "{'messages': [{'role': 'system', 'content': '### Your task is to classify an arguement component from an essay into three possible classes: major claim, claim, or premise. For this purpose, we give you the following information in order:\\n1. The argument component itself\\n2. The topic of the essay\\n3. The complete sentence of this argument component\\n4. Positional information of this argument component\\n'}, {'role': 'user', 'content': '### Here is the information about the argument component:\\n1. Argument component: we should attach more importance to cooperation during primary education\\n2. Topic: Should students be taught to compete or to cooperate?\\n3. Complete sentence: From this point of view, I firmly believe that we should attach more importance to cooperation during primary education.\\n4. Positional information: Paragraph number: 1. Is it in the introduction paragraph: yes. Is it in the conclusion paragraph: no. Is it the first component of its paragraph: yes. Is it the last component of its paragraph: yes.\\nIs the argument compoment given in point 1 a major claim, a claim, or a premise? No other answer besides these three is accepted.\\n'}, {'role': 'assistant', 'content': 'major claim'}]}\n"
     ]
    }
   ],
   "source": [
    "print(formatting_fct(my_task_description, question, answer, mode=\"train\"))"
   ]
  },
  {
   "cell_type": "markdown",
   "id": "9056fd22-4718-436e-bfc3-42a433d5bf3f",
   "metadata": {},
   "source": [
    "## Prepare data files"
   ]
  },
  {
   "cell_type": "markdown",
   "id": "b0baac15-666a-4181-b5c4-af9f7ab668b9",
   "metadata": {},
   "source": [
    "### Train set"
   ]
  },
  {
   "cell_type": "code",
   "execution_count": 32,
   "id": "c9c0f082-2f50-4543-abcd-7a64726ad7ff",
   "metadata": {},
   "outputs": [],
   "source": [
    "data_file_train = []\n",
    "\n",
    "for i, _ in df[df[\"essay_file\"].isin(train_essays_l)].iterrows():\n",
    "    \n",
    "    \n",
    "    argument_component = df.iloc[i].argument_component\n",
    "    contextual_fts = (df.iloc[i].essay_title, df.iloc[i].sentence)\n",
    "    structural_fts = (df.iloc[i].paragraph_nr, \n",
    "    df.iloc[i].is_component_in_intro_paragraph, \n",
    "    df.iloc[i].is_component_in_conclusion_paragraph,\n",
    "    df.iloc[i].is_component_first_in_paragraph,\n",
    "    df.iloc[i].is_component_last_in_paragraph)\n",
    "\n",
    "    question = build_question(argument_component, contextual_fts, structural_fts)\n",
    "    answer = build_answer(df.iloc[i].label)\n",
    "    \n",
    "    data_file_train.append( formatting_fct(my_task_description, question, answer, mode=\"train\") )"
   ]
  },
  {
   "cell_type": "code",
   "execution_count": 33,
   "id": "52f56e72-44f2-44e9-8a91-dc4023de5dde",
   "metadata": {},
   "outputs": [
    {
     "data": {
      "text/plain": [
       "4307"
      ]
     },
     "execution_count": 33,
     "metadata": {},
     "output_type": "execute_result"
    }
   ],
   "source": [
    "len(data_file_train)"
   ]
  },
  {
   "cell_type": "code",
   "execution_count": 34,
   "id": "6597503e-a445-49fc-b190-87825192ace1",
   "metadata": {},
   "outputs": [
    {
     "name": "stdout",
     "output_type": "stream",
     "text": [
      "{'messages': [{'role': 'system', 'content': '### Your task is to classify an arguement component from an essay into three possible classes: major claim, claim, or premise. For this purpose, we give you the following information in order:\\n1. The argument component itself\\n2. The topic of the essay\\n3. The complete sentence of this argument component\\n4. Positional information of this argument component\\n'}, {'role': 'user', 'content': '### Here is the information about the argument component:\\n1. Argument component: we should attach more importance to cooperation during primary education\\n2. Topic: Should students be taught to compete or to cooperate?\\n3. Complete sentence: From this point of view, I firmly believe that we should attach more importance to cooperation during primary education.\\n4. Positional information: Paragraph number: 1. Is it in the introduction paragraph: yes. Is it in the conclusion paragraph: no. Is it the first component of its paragraph: yes. Is it the last component of its paragraph: yes.\\nIs the argument compoment given in point 1 a major claim, a claim, or a premise? No other answer besides these three is accepted.\\n'}, {'role': 'assistant', 'content': 'major claim'}]}\n",
      "\n",
      "{'messages': [{'role': 'system', 'content': '### Your task is to classify an arguement component from an essay into three possible classes: major claim, claim, or premise. For this purpose, we give you the following information in order:\\n1. The argument component itself\\n2. The topic of the essay\\n3. The complete sentence of this argument component\\n4. Positional information of this argument component\\n'}, {'role': 'user', 'content': '### Here is the information about the argument component:\\n1. Argument component: through cooperation, children can learn about interpersonal skills which are significant in the future life of all students\\n2. Topic: Should students be taught to compete or to cooperate?\\n3. Complete sentence: First of all, through cooperation, children can learn about interpersonal skills which are significant in the future life of all students.\\n4. Positional information: Paragraph number: 2. Is it in the introduction paragraph: no. Is it in the conclusion paragraph: no. Is it the first component of its paragraph: yes. Is it the last component of its paragraph: no.\\nIs the argument compoment given in point 1 a major claim, a claim, or a premise? No other answer besides these three is accepted.\\n'}, {'role': 'assistant', 'content': 'claim'}]}\n",
      "\n",
      "{'messages': [{'role': 'system', 'content': '### Your task is to classify an arguement component from an essay into three possible classes: major claim, claim, or premise. For this purpose, we give you the following information in order:\\n1. The argument component itself\\n2. The topic of the essay\\n3. The complete sentence of this argument component\\n4. Positional information of this argument component\\n'}, {'role': 'user', 'content': '### Here is the information about the argument component:\\n1. Argument component: What we acquired from team work is not only how to achieve the same goal with others but more importantly, how to get along with others\\n2. Topic: Should students be taught to compete or to cooperate?\\n3. Complete sentence: What we acquired from team work is not only how to achieve the same goal with others but more importantly, how to get along with others.\\n4. Positional information: Paragraph number: 2. Is it in the introduction paragraph: no. Is it in the conclusion paragraph: no. Is it the first component of its paragraph: no. Is it the last component of its paragraph: no.\\nIs the argument compoment given in point 1 a major claim, a claim, or a premise? No other answer besides these three is accepted.\\n'}, {'role': 'assistant', 'content': 'premise'}]}\n",
      "\n"
     ]
    }
   ],
   "source": [
    "for i in range(3):\n",
    "    \n",
    "    print(data_file_train[i])\n",
    "    print()"
   ]
  },
  {
   "cell_type": "markdown",
   "id": "415f6f40-ce08-4d31-896b-013e05c49537",
   "metadata": {},
   "source": [
    "### Validation set"
   ]
  },
  {
   "cell_type": "code",
   "execution_count": 37,
   "id": "6895be27-d3a8-4990-a033-02e059ad1854",
   "metadata": {},
   "outputs": [],
   "source": [
    "data_file_val = []\n",
    "\n",
    "for i, _ in df[df[\"essay_file\"].isin(val_essays_l)].iterrows():\n",
    "    \n",
    "    argument_component = df.iloc[i].argument_component\n",
    "    contextual_fts = (df.iloc[i].essay_title, df.iloc[i].sentence)\n",
    "    structural_fts = (df.iloc[i].paragraph_nr, \n",
    "    df.iloc[i].is_component_in_intro_paragraph, \n",
    "    df.iloc[i].is_component_in_conclusion_paragraph,\n",
    "    df.iloc[i].is_component_first_in_paragraph,\n",
    "    df.iloc[i].is_component_last_in_paragraph)\n",
    "\n",
    "    question = build_question(argument_component, contextual_fts, structural_fts)\n",
    "    answer = build_answer(df.iloc[i].label)\n",
    "    \n",
    "    data_file_val.append( formatting_fct(my_task_description, question, answer, mode=\"train\") )"
   ]
  },
  {
   "cell_type": "code",
   "execution_count": 38,
   "id": "331ab12d-d648-44d7-9d12-09a819139ea0",
   "metadata": {},
   "outputs": [
    {
     "data": {
      "text/plain": [
       "516"
      ]
     },
     "execution_count": 38,
     "metadata": {},
     "output_type": "execute_result"
    }
   ],
   "source": [
    "len(data_file_val)"
   ]
  },
  {
   "cell_type": "code",
   "execution_count": 39,
   "id": "a236eb04-4d63-4cbc-8512-e3b81cc59d97",
   "metadata": {},
   "outputs": [
    {
     "name": "stdout",
     "output_type": "stream",
     "text": [
      "{'messages': [{'role': 'system', 'content': '### Your task is to classify an arguement component from an essay into three possible classes: major claim, claim, or premise. For this purpose, we give you the following information in order:\\n1. The argument component itself\\n2. The topic of the essay\\n3. The complete sentence of this argument component\\n4. Positional information of this argument component\\n'}, {'role': 'user', 'content': '### Here is the information about the argument component:\\n1. Argument component: it has contributed to the economic development as well as preserved the culture and environment of the tourist destinations\\n2. Topic: International tourism is now more common than ever before\\n3. Complete sentence: While some people might think that this international tourism has negative effects on the destination countries, I would contend that it has contributed to the economic development as well as preserved the culture and environment of the tourist destinations.\\n4. Positional information: Paragraph number: 1. Is it in the introduction paragraph: yes. Is it in the conclusion paragraph: no. Is it the first component of its paragraph: yes. Is it the last component of its paragraph: yes.\\nIs the argument compoment given in point 1 a major claim, a claim, or a premise? No other answer besides these three is accepted.\\n'}, {'role': 'assistant', 'content': 'major claim'}]}\n",
      "\n",
      "{'messages': [{'role': 'system', 'content': '### Your task is to classify an arguement component from an essay into three possible classes: major claim, claim, or premise. For this purpose, we give you the following information in order:\\n1. The argument component itself\\n2. The topic of the essay\\n3. The complete sentence of this argument component\\n4. Positional information of this argument component\\n'}, {'role': 'user', 'content': \"### Here is the information about the argument component:\\n1. Argument component: international tourism promotes many aspects of the destination country's economy in order to serve various demands of tourists\\n2. Topic: International tourism is now more common than ever before\\n3. Complete sentence: Firstly, international tourism promotes many aspects of the destination country's economy in order to serve various demands of tourists.\\n4. Positional information: Paragraph number: 2. Is it in the introduction paragraph: no. Is it in the conclusion paragraph: no. Is it the first component of its paragraph: yes. Is it the last component of its paragraph: no.\\nIs the argument compoment given in point 1 a major claim, a claim, or a premise? No other answer besides these three is accepted.\\n\"}, {'role': 'assistant', 'content': 'premise'}]}\n",
      "\n",
      "{'messages': [{'role': 'system', 'content': '### Your task is to classify an arguement component from an essay into three possible classes: major claim, claim, or premise. For this purpose, we give you the following information in order:\\n1. The argument component itself\\n2. The topic of the essay\\n3. The complete sentence of this argument component\\n4. Positional information of this argument component\\n'}, {'role': 'user', 'content': '### Here is the information about the argument component:\\n1. Argument component: Take Cambodia for example, a large number of visitors coming to visit the Angkowat ancient temple need services like restaurants, hotels, souvenir shops and other stores\\n2. Topic: International tourism is now more common than ever before\\n3. Complete sentence: Take Cambodia for example, a large number of visitors coming to visit the Angkowat ancient temple need services like restaurants, hotels, souvenir shops and other stores.\\n4. Positional information: Paragraph number: 2. Is it in the introduction paragraph: no. Is it in the conclusion paragraph: no. Is it the first component of its paragraph: no. Is it the last component of its paragraph: no.\\nIs the argument compoment given in point 1 a major claim, a claim, or a premise? No other answer besides these three is accepted.\\n'}, {'role': 'assistant', 'content': 'premise'}]}\n",
      "\n"
     ]
    }
   ],
   "source": [
    "for i in range(3):\n",
    "    \n",
    "    print(data_file_val[i])\n",
    "    print()"
   ]
  },
  {
   "cell_type": "markdown",
   "id": "2d704569-fbb9-4fdd-bc3a-4baf4acbbb38",
   "metadata": {},
   "source": [
    "### Test set"
   ]
  },
  {
   "cell_type": "code",
   "execution_count": 40,
   "id": "a5b4ba42-30cb-4ea2-b2de-a9f12d4eeb9f",
   "metadata": {},
   "outputs": [],
   "source": [
    "data_file_test = []\n",
    "\n",
    "for i, _ in df[df.split == \"TEST\"].iterrows():\n",
    "    \n",
    "    argument_component = df.iloc[i].argument_component\n",
    "    contextual_fts = (df.iloc[i].essay_title, df.iloc[i].sentence)\n",
    "    structural_fts = (df.iloc[i].paragraph_nr, \n",
    "    df.iloc[i].is_component_in_intro_paragraph, \n",
    "    df.iloc[i].is_component_in_conclusion_paragraph,\n",
    "    df.iloc[i].is_component_first_in_paragraph,\n",
    "    df.iloc[i].is_component_last_in_paragraph)\n",
    "\n",
    "    question = build_question(argument_component, contextual_fts, structural_fts)\n",
    "    answer = build_answer(df.iloc[i].label)\n",
    "    \n",
    "    data_file_test.append( formatting_fct(my_task_description, question, answer, mode=\"test\") )"
   ]
  },
  {
   "cell_type": "code",
   "execution_count": 41,
   "id": "0edc2c43-0f6f-42a6-b73b-1643150b451b",
   "metadata": {},
   "outputs": [
    {
     "data": {
      "text/plain": [
       "1266"
      ]
     },
     "execution_count": 41,
     "metadata": {},
     "output_type": "execute_result"
    }
   ],
   "source": [
    "len(data_file_test)"
   ]
  },
  {
   "cell_type": "code",
   "execution_count": 42,
   "id": "63843ae8-4157-47da-8ae1-4113ca764535",
   "metadata": {},
   "outputs": [
    {
     "name": "stdout",
     "output_type": "stream",
     "text": [
      "{'messages': [{'role': 'system', 'content': '### Your task is to classify an arguement component from an essay into three possible classes: major claim, claim, or premise. For this purpose, we give you the following information in order:\\n1. The argument component itself\\n2. The topic of the essay\\n3. The complete sentence of this argument component\\n4. Positional information of this argument component\\n'}, {'role': 'user', 'content': '### Here is the information about the argument component:\\n1. Argument component: the tourism bring large profit for the destination countries\\n2. Topic: International tourism is now more common than ever before\\n3. Complete sentence: While some might think the tourism bring large profit for the destination countries, I would contend that this industry has affected the cultural attributes and damaged the natural environment of the tourist destinations.\\n4. Positional information: Paragraph number: 1. Is it in the introduction paragraph: yes. Is it in the conclusion paragraph: no. Is it the first component of its paragraph: yes. Is it the last component of its paragraph: no.\\nIs the argument compoment given in point 1 a major claim, a claim, or a premise? No other answer besides these three is accepted.\\n'}, {'role': 'assistant', 'content': ''}]}\n",
      "\n",
      "{'messages': [{'role': 'system', 'content': '### Your task is to classify an arguement component from an essay into three possible classes: major claim, claim, or premise. For this purpose, we give you the following information in order:\\n1. The argument component itself\\n2. The topic of the essay\\n3. The complete sentence of this argument component\\n4. Positional information of this argument component\\n'}, {'role': 'user', 'content': '### Here is the information about the argument component:\\n1. Argument component: this industry has affected the cultural attributes and damaged the natural environment of the tourist destinations\\n2. Topic: International tourism is now more common than ever before\\n3. Complete sentence: While some might think the tourism bring large profit for the destination countries, I would contend that this industry has affected the cultural attributes and damaged the natural environment of the tourist destinations.\\n4. Positional information: Paragraph number: 1. Is it in the introduction paragraph: yes. Is it in the conclusion paragraph: no. Is it the first component of its paragraph: no. Is it the last component of its paragraph: yes.\\nIs the argument compoment given in point 1 a major claim, a claim, or a premise? No other answer besides these three is accepted.\\n'}, {'role': 'assistant', 'content': ''}]}\n",
      "\n",
      "{'messages': [{'role': 'system', 'content': '### Your task is to classify an arguement component from an essay into three possible classes: major claim, claim, or premise. For this purpose, we give you the following information in order:\\n1. The argument component itself\\n2. The topic of the essay\\n3. The complete sentence of this argument component\\n4. Positional information of this argument component\\n'}, {'role': 'user', 'content': '### Here is the information about the argument component:\\n1. Argument component: tourists from different cultures will probably cause changes to the cultural identity of the tourist destinations\\n2. Topic: International tourism is now more common than ever before\\n3. Complete sentence: Firstly, it is an undeniable fact that tourists from different cultures will probably cause changes to the cultural identity of the tourist destinations.\\n4. Positional information: Paragraph number: 2. Is it in the introduction paragraph: no. Is it in the conclusion paragraph: no. Is it the first component of its paragraph: yes. Is it the last component of its paragraph: no.\\nIs the argument compoment given in point 1 a major claim, a claim, or a premise? No other answer besides these three is accepted.\\n'}, {'role': 'assistant', 'content': ''}]}\n",
      "\n"
     ]
    }
   ],
   "source": [
    "for i in range(3):\n",
    "    \n",
    "    print(data_file_test[i])\n",
    "    print()"
   ]
  },
  {
   "cell_type": "markdown",
   "id": "13a8dad5-0a92-4460-a027-64e9d6ffba6a",
   "metadata": {},
   "source": [
    "## Save `jsonl` files"
   ]
  },
  {
   "cell_type": "code",
   "execution_count": 43,
   "id": "b353533d-cc7a-4582-93c8-a1647b5fcb95",
   "metadata": {},
   "outputs": [],
   "source": [
    "file_name = \"data_train_v2.jsonl\"\n",
    "\n",
    "with open(os.path.join(data_dir, file_name), 'w') as fh:\n",
    "    \n",
    "    for entry in data_file_train:\n",
    "        \n",
    "        json.dump(entry, fh)\n",
    "        fh.write('\\n')"
   ]
  },
  {
   "cell_type": "code",
   "execution_count": 44,
   "id": "5e1fc48e-882d-4123-ba65-9edcd7101868",
   "metadata": {},
   "outputs": [],
   "source": [
    "file_name = \"data_val_v2.jsonl\"\n",
    "\n",
    "with open(os.path.join(data_dir, file_name), 'w') as fh:\n",
    "    \n",
    "    for entry in data_file_val:\n",
    "        \n",
    "        json.dump(entry, fh)\n",
    "        fh.write('\\n')"
   ]
  },
  {
   "cell_type": "code",
   "execution_count": 45,
   "id": "9b30305e-307d-4c3a-be3c-9c984bfdf788",
   "metadata": {},
   "outputs": [],
   "source": [
    "file_name = \"data_test_v2.jsonl\"\n",
    "\n",
    "with open(os.path.join(data_dir, file_name), 'w') as fh:\n",
    "    \n",
    "    for entry in data_file_test:\n",
    "        \n",
    "        json.dump(entry, fh)\n",
    "        fh.write('\\n')"
   ]
  },
  {
   "cell_type": "code",
   "execution_count": null,
   "id": "fe2795f0-baec-43dc-a2fa-9bee8c1953d2",
   "metadata": {},
   "outputs": [],
   "source": []
  }
 ],
 "metadata": {
  "kernelspec": {
   "display_name": "base",
   "language": "python",
   "name": "base"
  },
  "language_info": {
   "codemirror_mode": {
    "name": "ipython",
    "version": 3
   },
   "file_extension": ".py",
   "mimetype": "text/x-python",
   "name": "python",
   "nbconvert_exporter": "python",
   "pygments_lexer": "ipython3",
   "version": "3.9.5"
  }
 },
 "nbformat": 4,
 "nbformat_minor": 5
}
