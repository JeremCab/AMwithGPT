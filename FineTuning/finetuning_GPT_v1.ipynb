{
 "cells": [
  {
   "cell_type": "markdown",
   "id": "781347c0-f46e-402d-9ac0-d3508f607d20",
   "metadata": {},
   "source": [
    "# Fine-Tuning GPT-3.5-turbo"
   ]
  },
  {
   "cell_type": "markdown",
   "id": "629c5a0b",
   "metadata": {},
   "source": [
    "- Finetuning GPT-3.5-turbo with **features as text** and **all-in-one strategy**.\n",
    "\n",
    "- Here, the argument component (AC) and its sentence are given as features.\n",
    "\n",
    "- Data files: `data_train_v1.jsonl`, `data_val_v1.jsonl`, `data_test_v1.jsonl`"
   ]
  },
  {
   "cell_type": "markdown",
   "id": "4c699ec0-df8f-4b72-9eef-f5418f1db529",
   "metadata": {},
   "source": [
    "## Libraries"
   ]
  },
  {
   "cell_type": "code",
   "execution_count": 3,
   "id": "1c9b5072-9da3-4898-92d0-f82f4cf87b51",
   "metadata": {},
   "outputs": [],
   "source": [
    "# !pip install --upgrade pip\n",
    "# !pip install openai"
   ]
  },
  {
   "cell_type": "code",
   "execution_count": 132,
   "id": "023c62c6-0cdd-4f73-a9e1-a5fd52c2e066",
   "metadata": {},
   "outputs": [],
   "source": [
    "import os\n",
    "import json\n",
    "import pickle\n",
    "import pandas as pd\n",
    "from pathlib import Path\n",
    "\n",
    "from sklearn.metrics import classification_report\n",
    "\n",
    "import openai\n",
    "from openai import OpenAI"
   ]
  },
  {
   "cell_type": "markdown",
   "id": "3f27d4ed",
   "metadata": {},
   "source": [
    "## API key"
   ]
  },
  {
   "cell_type": "code",
   "execution_count": 29,
   "id": "dcaff120",
   "metadata": {},
   "outputs": [],
   "source": [
    "api_key = \"your OpenAI API key\"\n",
    "openai.api_key = api_key"
   ]
  },
  {
   "cell_type": "markdown",
   "id": "b923b02a",
   "metadata": {},
   "source": [
    "## Upload data to OpenAI"
   ]
  },
  {
   "cell_type": "code",
   "execution_count": 30,
   "id": "539085c7-ea89-4141-bb14-ea73664044a5",
   "metadata": {},
   "outputs": [],
   "source": [
    "data_dir = os.path.join(os.getcwd(), \"data\")"
   ]
  },
  {
   "cell_type": "code",
   "execution_count": 31,
   "id": "a6b4ac9f-5a4d-4e78-b4d7-428e05b63a49",
   "metadata": {},
   "outputs": [],
   "source": [
    "train_file_name = os.path.join(data_dir, \"data_train_v1.jsonl\")\n",
    "val_file_name = os.path.join(data_dir, \"data_val_v1.jsonl\")\n",
    "test_file_name = os.path.join(data_dir, \"data_test_v1.jsonl\")"
   ]
  },
  {
   "cell_type": "code",
   "execution_count": 32,
   "id": "9d6cc200-7e39-45f7-8bb1-1670b6ef8ffe",
   "metadata": {},
   "outputs": [],
   "source": [
    "client = OpenAI(api_key=api_key)"
   ]
  },
  {
   "cell_type": "markdown",
   "id": "fc900451-2fe5-4512-ace5-9963450c764d",
   "metadata": {},
   "source": [
    "### Train set"
   ]
  },
  {
   "cell_type": "code",
   "execution_count": 36,
   "id": "a1e4f3b7-2f88-4976-908b-cfc2e164c73f",
   "metadata": {},
   "outputs": [],
   "source": [
    "train_upload_response = client.files.create(\n",
    "    file = Path(train_file_name),\n",
    "    purpose = \"fine-tune\"\n",
    ")"
   ]
  },
  {
   "cell_type": "code",
   "execution_count": 37,
   "id": "e7f3dae3-3873-4b0f-8b9b-239f5040df84",
   "metadata": {},
   "outputs": [
    {
     "data": {
      "text/plain": [
       "FileObject(id='file-yZ4zxtjZfiw8nxEjxQGGS61z', bytes=2398726, created_at=1703783652, filename='data_train_v1.jsonl', object='file', purpose='fine-tune', status='processed', status_details=None)"
      ]
     },
     "execution_count": 37,
     "metadata": {},
     "output_type": "execute_result"
    }
   ],
   "source": [
    "train_upload_response"
   ]
  },
  {
   "cell_type": "code",
   "execution_count": 38,
   "id": "93469f37",
   "metadata": {},
   "outputs": [
    {
     "data": {
      "text/plain": [
       "'file-yZ4zxtjZfiw8nxEjxQGGS61z'"
      ]
     },
     "execution_count": 38,
     "metadata": {},
     "output_type": "execute_result"
    }
   ],
   "source": [
    "train_file_id = train_upload_response.id\n",
    "train_file_id"
   ]
  },
  {
   "cell_type": "markdown",
   "id": "23752834-f9ad-43e2-b6cf-2c7e75789663",
   "metadata": {},
   "source": [
    "### Validation set"
   ]
  },
  {
   "cell_type": "code",
   "execution_count": 39,
   "id": "e3596175-6af9-4ef6-b1e0-160dde532030",
   "metadata": {},
   "outputs": [],
   "source": [
    "val_upload_response = client.files.create(\n",
    "    file = Path(val_file_name),\n",
    "    purpose = \"fine-tune\"\n",
    ")"
   ]
  },
  {
   "cell_type": "code",
   "execution_count": 40,
   "id": "29c803d6-fa65-44fa-9a67-65b96ae8f608",
   "metadata": {},
   "outputs": [
    {
     "data": {
      "text/plain": [
       "FileObject(id='file-wIpI9iikCT9UMesXMBcPgAvn', bytes=256512, created_at=1703783698, filename='data_val_v1.jsonl', object='file', purpose='fine-tune', status='processed', status_details=None)"
      ]
     },
     "execution_count": 40,
     "metadata": {},
     "output_type": "execute_result"
    }
   ],
   "source": [
    "val_upload_response"
   ]
  },
  {
   "cell_type": "code",
   "execution_count": 41,
   "id": "f8945390-a59f-480a-98da-21e070eb54f2",
   "metadata": {},
   "outputs": [
    {
     "data": {
      "text/plain": [
       "'file-wIpI9iikCT9UMesXMBcPgAvn'"
      ]
     },
     "execution_count": 41,
     "metadata": {},
     "output_type": "execute_result"
    }
   ],
   "source": [
    "val_file_id = val_upload_response.id\n",
    "val_file_id"
   ]
  },
  {
   "cell_type": "markdown",
   "id": "9fc20229-021d-4857-938c-54babda2e325",
   "metadata": {},
   "source": [
    "### Test set"
   ]
  },
  {
   "cell_type": "code",
   "execution_count": 42,
   "id": "fc9eedb6-a1d4-4951-a1d7-4adddcabf43d",
   "metadata": {},
   "outputs": [],
   "source": [
    "test_upload_response = client.files.create(\n",
    "    file = Path(test_file_name),\n",
    "    purpose = \"fine-tune\"\n",
    ")"
   ]
  },
  {
   "cell_type": "code",
   "execution_count": 43,
   "id": "ba22b3e7-4c00-4668-83b8-cc048fdb8572",
   "metadata": {},
   "outputs": [
    {
     "data": {
      "text/plain": [
       "FileObject(id='file-s6zneSO0OW1jyfpY8nvHTKWr', bytes=681700, created_at=1703783739, filename='data_test_v1.jsonl', object='file', purpose='fine-tune', status='processed', status_details=None)"
      ]
     },
     "execution_count": 43,
     "metadata": {},
     "output_type": "execute_result"
    }
   ],
   "source": [
    "test_upload_response"
   ]
  },
  {
   "cell_type": "code",
   "execution_count": 44,
   "id": "515b7058-1507-4534-95a0-de91d513194f",
   "metadata": {},
   "outputs": [
    {
     "data": {
      "text/plain": [
       "'file-s6zneSO0OW1jyfpY8nvHTKWr'"
      ]
     },
     "execution_count": 44,
     "metadata": {},
     "output_type": "execute_result"
    }
   ],
   "source": [
    "test_file_id = test_upload_response.id\n",
    "test_file_id"
   ]
  },
  {
   "cell_type": "markdown",
   "id": "3e1007a6",
   "metadata": {},
   "source": [
    "## Fine-tune model"
   ]
  },
  {
   "cell_type": "code",
   "execution_count": 45,
   "id": "5001b848-a9df-41c9-90c3-767e948cc17e",
   "metadata": {},
   "outputs": [],
   "source": [
    "# Lauch fine-tuning\n",
    "\n",
    "finetune_response = client.fine_tuning.jobs.create(\n",
    "    training_file = train_file_id,\n",
    "    validation_file = val_file_id,\n",
    "    model = \"gpt-3.5-turbo\"\n",
    ")"
   ]
  },
  {
   "cell_type": "code",
   "execution_count": 86,
   "id": "acf26822-1066-4fa9-ac01-6f8cdff60574",
   "metadata": {},
   "outputs": [
    {
     "name": "stdout",
     "output_type": "stream",
     "text": [
      "ftjob-L9sCLmzuc8IYkNHWLEEr3NAk\n"
     ]
    }
   ],
   "source": [
    "print(finetune_response.id)"
   ]
  },
  {
   "cell_type": "code",
   "execution_count": 81,
   "id": "8cc7d767-b12b-4fdc-8cd1-dbf5c089939d",
   "metadata": {
    "scrolled": true,
    "tags": []
   },
   "outputs": [
    {
     "data": {
      "text/plain": [
       "{'data': [{'id': 'ftevent-Ng6REPWaMa9o5FiCF8YOQs78',\n",
       "   'created_at': 1703787925,\n",
       "   'level': 'info',\n",
       "   'message': 'Step 1601/1634: training loss=0.23, validation loss=0.23',\n",
       "   'object': 'fine_tuning.job.event',\n",
       "   'data': {'step': 1601,\n",
       "    'train_loss': 0.22546571493148804,\n",
       "    'valid_loss': 0.2277417018495757,\n",
       "    'train_mean_token_accuracy': 0.8709677457809448,\n",
       "    'valid_mean_token_accuracy': 0.1724137931034483},\n",
       "   'type': 'metrics'},\n",
       "  {'id': 'ftevent-veFkFMn5wlMNh8PJPzqSqiE1',\n",
       "   'created_at': 1703787677,\n",
       "   'level': 'info',\n",
       "   'message': 'Step 1501/1634: training loss=0.12, validation loss=0.12',\n",
       "   'object': 'fine_tuning.job.event',\n",
       "   'data': {'step': 1501,\n",
       "    'train_loss': 0.11730150878429413,\n",
       "    'valid_loss': 0.12349657858571698,\n",
       "    'train_mean_token_accuracy': 0.9677419066429138,\n",
       "    'valid_mean_token_accuracy': 0.22580645161290322},\n",
       "   'type': 'metrics'},\n",
       "  {'id': 'ftevent-MNEdG8XGZGvg3uJxuvB6KzVV',\n",
       "   'created_at': 1703787433,\n",
       "   'level': 'info',\n",
       "   'message': 'Step 1401/1634: training loss=0.18, validation loss=0.20',\n",
       "   'object': 'fine_tuning.job.event',\n",
       "   'data': {'step': 1401,\n",
       "    'train_loss': 0.1837657392024994,\n",
       "    'valid_loss': 0.20088558197021483,\n",
       "    'train_mean_token_accuracy': 0.931034505367279,\n",
       "    'valid_mean_token_accuracy': 0.2},\n",
       "   'type': 'metrics'},\n",
       "  {'id': 'ftevent-BB61QWJhxeqEuoHfhutvwtpf',\n",
       "   'created_at': 1703787201,\n",
       "   'level': 'info',\n",
       "   'message': 'Step 1301/1634: training loss=0.15, validation loss=0.22',\n",
       "   'object': 'fine_tuning.job.event',\n",
       "   'data': {'step': 1301,\n",
       "    'train_loss': 0.14601121842861176,\n",
       "    'valid_loss': 0.22303311578158674,\n",
       "    'train_mean_token_accuracy': 0.931034505367279,\n",
       "    'valid_mean_token_accuracy': 0.2413793103448276},\n",
       "   'type': 'metrics'},\n",
       "  {'id': 'ftevent-kePlsOWtj0efGd6D07f7ivSz',\n",
       "   'created_at': 1703786969,\n",
       "   'level': 'info',\n",
       "   'message': 'Step 1201/1634: training loss=0.37, validation loss=0.14',\n",
       "   'object': 'fine_tuning.job.event',\n",
       "   'data': {'step': 1201,\n",
       "    'train_loss': 0.36714866757392883,\n",
       "    'valid_loss': 0.1396241505940755,\n",
       "    'train_mean_token_accuracy': 0.8666666746139526,\n",
       "    'valid_mean_token_accuracy': 0.23333333333333334},\n",
       "   'type': 'metrics'},\n",
       "  {'id': 'ftevent-Cfxjr0BZKwEtfxUmHr9rNWNv',\n",
       "   'created_at': 1703786736,\n",
       "   'level': 'info',\n",
       "   'message': 'Step 1101/1634: training loss=0.06, validation loss=0.04',\n",
       "   'object': 'fine_tuning.job.event',\n",
       "   'data': {'step': 1101,\n",
       "    'train_loss': 0.06173490732908249,\n",
       "    'valid_loss': 0.042236697289251515,\n",
       "    'train_mean_token_accuracy': 0.9677419066429138,\n",
       "    'valid_mean_token_accuracy': 0.22580645161290322},\n",
       "   'type': 'metrics'},\n",
       "  {'id': 'ftevent-5mKdfzG65HMF5835B3MH2jqL',\n",
       "   'created_at': 1703786506,\n",
       "   'level': 'info',\n",
       "   'message': 'Step 1001/1634: training loss=0.03, validation loss=0.54',\n",
       "   'object': 'fine_tuning.job.event',\n",
       "   'data': {'step': 1001,\n",
       "    'train_loss': 0.03395000472664833,\n",
       "    'valid_loss': 0.5362870352608817,\n",
       "    'train_mean_token_accuracy': 1.0,\n",
       "    'valid_mean_token_accuracy': 0.17857142857142858},\n",
       "   'type': 'metrics'},\n",
       "  {'id': 'ftevent-htsD8pQPV4RohIiNSSbhrFRU',\n",
       "   'created_at': 1703786281,\n",
       "   'level': 'info',\n",
       "   'message': 'Step 901/1634: training loss=0.28, validation loss=0.38',\n",
       "   'object': 'fine_tuning.job.event',\n",
       "   'data': {'step': 901,\n",
       "    'train_loss': 0.27859577536582947,\n",
       "    'valid_loss': 0.377747917175293,\n",
       "    'train_mean_token_accuracy': 0.9354838728904724,\n",
       "    'valid_mean_token_accuracy': 0.2},\n",
       "   'type': 'metrics'},\n",
       "  {'id': 'ftevent-5ye9j3yqRpvLzHEcvcdg4vhS',\n",
       "   'created_at': 1703786053,\n",
       "   'level': 'info',\n",
       "   'message': 'Step 801/1634: training loss=0.35, validation loss=0.17',\n",
       "   'object': 'fine_tuning.job.event',\n",
       "   'data': {'step': 801,\n",
       "    'train_loss': 0.35466668009757996,\n",
       "    'valid_loss': 0.16588503519694012,\n",
       "    'train_mean_token_accuracy': 0.8620689511299133,\n",
       "    'valid_mean_token_accuracy': 0.2},\n",
       "   'type': 'metrics'},\n",
       "  {'id': 'ftevent-hteRb9ZA9L48TYO9n2VLqSbR',\n",
       "   'created_at': 1703785825,\n",
       "   'level': 'info',\n",
       "   'message': 'Step 701/1634: training loss=0.18, validation loss=0.23',\n",
       "   'object': 'fine_tuning.job.event',\n",
       "   'data': {'step': 701,\n",
       "    'train_loss': 0.1823725700378418,\n",
       "    'valid_loss': 0.2309208531533518,\n",
       "    'train_mean_token_accuracy': 0.8928571343421936,\n",
       "    'valid_mean_token_accuracy': 0.22580645161290322},\n",
       "   'type': 'metrics'}],\n",
       " 'object': 'list',\n",
       " 'has_more': True}"
      ]
     },
     "execution_count": 81,
     "metadata": {},
     "output_type": "execute_result"
    }
   ],
   "source": [
    "# Checking progress\n",
    "\n",
    "finetune_events = client.fine_tuning.jobs.list_events(fine_tuning_job_id=finetune_response.id, limit=10)\n",
    "finetune_events.model_dump()"
   ]
  },
  {
   "cell_type": "code",
   "execution_count": 83,
   "id": "a16b21e6-ca6e-4175-a308-adf1087050e5",
   "metadata": {
    "scrolled": true,
    "tags": []
   },
   "outputs": [
    {
     "data": {
      "text/plain": [
       "{'id': 'ftjob-L9sCLmzuc8IYkNHWLEEr3NAk',\n",
       " 'created_at': 1703783842,\n",
       " 'error': None,\n",
       " 'fine_tuned_model': 'ft:gpt-3.5-turbo-0613:personal::8apNjlMW',\n",
       " 'finished_at': 1703788011,\n",
       " 'hyperparameters': {'n_epochs': 3,\n",
       "  'batch_size': 8,\n",
       "  'learning_rate_multiplier': 2},\n",
       " 'model': 'gpt-3.5-turbo-0613',\n",
       " 'object': 'fine_tuning.job',\n",
       " 'organization_id': 'org-ao865HLfwm7KSarTu10iG90O',\n",
       " 'result_files': ['file-GnmMzFb5hptz1pmkyPLrwoa4'],\n",
       " 'status': 'succeeded',\n",
       " 'trained_tokens': 1316811,\n",
       " 'training_file': 'file-yZ4zxtjZfiw8nxEjxQGGS61z',\n",
       " 'validation_file': 'file-wIpI9iikCT9UMesXMBcPgAvn'}"
      ]
     },
     "execution_count": 83,
     "metadata": {},
     "output_type": "execute_result"
    }
   ],
   "source": [
    "retrieve_response = client.fine_tuning.jobs.retrieve(finetune_response.id)\n",
    "retrieve_response.model_dump()"
   ]
  },
  {
   "cell_type": "markdown",
   "id": "07e846ed",
   "metadata": {},
   "source": [
    "## Save fine-tuned model"
   ]
  },
  {
   "cell_type": "code",
   "execution_count": 95,
   "id": "73f756f7-5449-4520-9464-de25c7270836",
   "metadata": {},
   "outputs": [],
   "source": [
    "# Option 3\n",
    "\n",
    "if retrieve_response.fine_tuned_model == None:\n",
    "    \n",
    "    finetuned_model = client.fine_tuning.jobs.retrieve(\"<JOB ID from API>\").fine_tuned_model\n",
    "\n",
    "else:\n",
    "    \n",
    "    finetuned_model = retrieve_response.model_dump()[\"fine_tuned_model\"]"
   ]
  },
  {
   "cell_type": "code",
   "execution_count": 97,
   "id": "6302c323-b95b-4f8c-baae-26dc684b6044",
   "metadata": {},
   "outputs": [
    {
     "data": {
      "text/plain": [
       "'ft:gpt-3.5-turbo-0613:personal::8apNjlMW'"
      ]
     },
     "execution_count": 97,
     "metadata": {},
     "output_type": "execute_result"
    }
   ],
   "source": [
    "finetuned_model"
   ]
  },
  {
   "cell_type": "markdown",
   "id": "8601df11",
   "metadata": {},
   "source": [
    "## Evaluate on test set"
   ]
  },
  {
   "cell_type": "code",
   "execution_count": 125,
   "id": "b3381cef-4a80-4f63-85f5-33dfbd446389",
   "metadata": {},
   "outputs": [
    {
     "name": "stdout",
     "output_type": "stream",
     "text": [
      "premise\n"
     ]
    }
   ],
   "source": [
    "# Evaluate on 1 sample\n",
    "\n",
    "response = client.chat.completions.create(\n",
    "    model=finetuned_model,\n",
    "    messages=[{\"role\": \"system\", \"content\": \"### You are an expert in linguistics and you will classify an arguement component into three possible classes: major claim, claim, or premise.\\n\"}, {\"role\": \"user\", \"content\": \"### Here is an argument component given in quotation marks: \\\"it is necessary for universities to respect the individual choice of subject due to the diversity of boys and girls, and we ca not forcedly put the same numbers of males and females into every subject\\\"\\nIs this argument compoment a major claim, a claim, or a premise? No other answer besides these three is accepted.\\n    \"}, {\"role\": \"assistant\", \"content\": \"\"}]\n",
    ")\n",
    "\n",
    "print(response.choices[0].message.content)"
   ]
  },
  {
   "cell_type": "code",
   "execution_count": 127,
   "id": "aa5d0b37-ce31-45c7-8610-b0b1de5782bc",
   "metadata": {},
   "outputs": [],
   "source": [
    "# Evaluate the whole test set\n",
    "\n",
    "predictions_l = []\n",
    "\n",
    "with open(os.path.join(data_dir, \"data_test_v1.jsonl\"), 'r') as fh:\n",
    "    \n",
    "    lines_l = [json.loads(line) for line in fh]\n",
    "    \n",
    "    for line in lines_l:\n",
    "        \n",
    "        messages = line[\"messages\"]\n",
    "        \n",
    "        response = client.chat.completions.create(\n",
    "        model=finetuned_model,\n",
    "        messages=messages\n",
    "        )\n",
    "\n",
    "        predictions_l.append(response.choices[0].message.content)"
   ]
  },
  {
   "cell_type": "code",
   "execution_count": 130,
   "id": "af6d5b99-bef6-4894-89c9-ead2a2426aaa",
   "metadata": {},
   "outputs": [
    {
     "data": {
      "text/plain": [
       "1266"
      ]
     },
     "execution_count": 130,
     "metadata": {},
     "output_type": "execute_result"
    }
   ],
   "source": [
    "len(predictions_l)"
   ]
  },
  {
   "cell_type": "markdown",
   "id": "4d25b453-6278-4e2e-a47d-8e785cf221ae",
   "metadata": {},
   "source": [
    "## Results"
   ]
  },
  {
   "cell_type": "code",
   "execution_count": 133,
   "id": "59afc7d7-3ea4-473a-9a86-8796166e04ce",
   "metadata": {},
   "outputs": [],
   "source": [
    "df = pd.read_csv(os.path.join(data_dir, \"persuasive_essays_dataset.csv\"), index_col=0)"
   ]
  },
  {
   "cell_type": "code",
   "execution_count": 139,
   "id": "f3d3bd46-3089-4c41-9367-bf336918b259",
   "metadata": {},
   "outputs": [],
   "source": [
    "grounds_l = list(df[df.split == 'TEST'].label.values)"
   ]
  },
  {
   "cell_type": "code",
   "execution_count": 142,
   "id": "3953bd4a-0730-4bf4-81cc-5cbd9cbb9610",
   "metadata": {},
   "outputs": [],
   "source": [
    "# grounds_l"
   ]
  },
  {
   "cell_type": "code",
   "execution_count": 146,
   "id": "34d3d44a-4021-40df-a7b8-97ce7ca2cded",
   "metadata": {},
   "outputs": [],
   "source": [
    "grounds_l = list(map(lambda x: x.replace(\"MajorClaim\", \"major claim\"), grounds_l))\n",
    "grounds_l = list(map(lambda x: x.replace(\"Claim\", \"claim\"), grounds_l))\n",
    "grounds_l = list(map(lambda x: x.replace(\"Premise\", \"premise\"), grounds_l))"
   ]
  },
  {
   "cell_type": "code",
   "execution_count": 149,
   "id": "35a557d6-49c4-4522-b5d3-e6bca714bcb5",
   "metadata": {},
   "outputs": [
    {
     "name": "stdout",
     "output_type": "stream",
     "text": [
      "              precision    recall  f1-score   support\n",
      "\n",
      "       claim      0.383     0.454     0.416       304\n",
      " major claim      0.564     0.490     0.524       153\n",
      "     premise      0.814     0.778     0.795       809\n",
      "\n",
      "    accuracy                          0.665      1266\n",
      "   macro avg      0.587     0.574     0.578      1266\n",
      "weighted avg      0.680     0.665     0.671      1266\n",
      "\n"
     ]
    }
   ],
   "source": [
    "print(classification_report(grounds_l, predictions_l, digits=3))"
   ]
  },
  {
   "cell_type": "code",
   "execution_count": null,
   "id": "bf7813fd-57c3-4666-8171-3761d68bab0b",
   "metadata": {},
   "outputs": [],
   "source": []
  }
 ],
 "metadata": {
  "kernelspec": {
   "display_name": "base",
   "language": "python",
   "name": "base"
  },
  "language_info": {
   "codemirror_mode": {
    "name": "ipython",
    "version": 3
   },
   "file_extension": ".py",
   "mimetype": "text/x-python",
   "name": "python",
   "nbconvert_exporter": "python",
   "pygments_lexer": "ipython3",
   "version": "3.9.5"
  }
 },
 "nbformat": 4,
 "nbformat_minor": 5
}
