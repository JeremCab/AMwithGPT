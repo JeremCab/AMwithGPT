{
 "cells": [
  {
   "cell_type": "markdown",
   "id": "781347c0-f46e-402d-9ac0-d3508f607d20",
   "metadata": {},
   "source": [
    "# Finetuning GPT-3.X"
   ]
  },
  {
   "cell_type": "markdown",
   "id": "29bbec0c-aac6-4736-832b-1558c7f21d18",
   "metadata": {},
   "source": [
    "https://github.com/norahsakal/fine-tune-gpt3-model/blob/main/fine_tune_step_by_step.ipynb"
   ]
  },
  {
   "cell_type": "markdown",
   "id": "5961bdba-46d3-4a82-9e34-275f79a18102",
   "metadata": {},
   "source": [
    "Finetuning GPT-turbo with **features as text** and **all-in-one strategy**.\n",
    "\n",
    "Data files: `data_train_v2.jsonl`, `data_val_v2.jsonl`, `data_test_v2.jsonl`"
   ]
  },
  {
   "cell_type": "markdown",
   "id": "4c699ec0-df8f-4b72-9eef-f5418f1db529",
   "metadata": {},
   "source": [
    "## Libraries"
   ]
  },
  {
   "cell_type": "code",
   "execution_count": null,
   "id": "1c9b5072-9da3-4898-92d0-f82f4cf87b51",
   "metadata": {},
   "outputs": [],
   "source": [
    "# !pip install --upgrade pip\n",
    "# !pip install openai\n",
    "# (choose \"base\" kernel)"
   ]
  },
  {
   "cell_type": "code",
   "execution_count": null,
   "id": "023c62c6-0cdd-4f73-a9e1-a5fd52c2e066",
   "metadata": {},
   "outputs": [],
   "source": [
    "import os\n",
    "import json\n",
    "import pickle\n",
    "import pandas as pd\n",
    "from pathlib import Path\n",
    "\n",
    "from sklearn.metrics import classification_report\n",
    "\n",
    "import openai\n",
    "from openai import OpenAI"
   ]
  },
  {
   "cell_type": "markdown",
   "id": "3f27d4ed",
   "metadata": {},
   "source": [
    "## API key"
   ]
  },
  {
   "cell_type": "code",
   "execution_count": null,
   "id": "dcaff120",
   "metadata": {},
   "outputs": [],
   "source": [
    "api_key = \"<your Open AI key>\"\n",
    "openai.api_key = api_key"
   ]
  },
  {
   "cell_type": "markdown",
   "id": "b923b02a",
   "metadata": {},
   "source": [
    "## Upload data to OpenAI"
   ]
  },
  {
   "cell_type": "code",
   "execution_count": null,
   "id": "539085c7-ea89-4141-bb14-ea73664044a5",
   "metadata": {},
   "outputs": [],
   "source": [
    "data_dir = os.path.join(os.getcwd(), \"data\")"
   ]
  },
  {
   "cell_type": "code",
   "execution_count": null,
   "id": "a6b4ac9f-5a4d-4e78-b4d7-428e05b63a49",
   "metadata": {},
   "outputs": [],
   "source": [
    "train_file_name = os.path.join(data_dir, \"data_train_v2.jsonl\")\n",
    "val_file_name = os.path.join(data_dir, \"data_val_v2.jsonl\")\n",
    "test_file_name = os.path.join(data_dir, \"data_test_v2.jsonl\")"
   ]
  },
  {
   "cell_type": "code",
   "execution_count": null,
   "id": "9d6cc200-7e39-45f7-8bb1-1670b6ef8ffe",
   "metadata": {},
   "outputs": [],
   "source": [
    "client = OpenAI(api_key=api_key)"
   ]
  },
  {
   "cell_type": "markdown",
   "id": "fc900451-2fe5-4512-ace5-9963450c764d",
   "metadata": {},
   "source": [
    "### Train set"
   ]
  },
  {
   "cell_type": "code",
   "execution_count": null,
   "id": "a1e4f3b7-2f88-4976-908b-cfc2e164c73f",
   "metadata": {},
   "outputs": [],
   "source": [
    "train_upload_response = client.files.create(\n",
    "    file = Path(train_file_name),\n",
    "    purpose = \"fine-tune\"\n",
    ")"
   ]
  },
  {
   "cell_type": "code",
   "execution_count": null,
   "id": "e7f3dae3-3873-4b0f-8b9b-239f5040df84",
   "metadata": {},
   "outputs": [],
   "source": [
    "train_upload_response"
   ]
  },
  {
   "cell_type": "code",
   "execution_count": null,
   "id": "93469f37",
   "metadata": {},
   "outputs": [],
   "source": [
    "train_file_id = train_upload_response.id\n",
    "train_file_id"
   ]
  },
  {
   "cell_type": "markdown",
   "id": "23752834-f9ad-43e2-b6cf-2c7e75789663",
   "metadata": {},
   "source": [
    "### Validation set"
   ]
  },
  {
   "cell_type": "code",
   "execution_count": null,
   "id": "e3596175-6af9-4ef6-b1e0-160dde532030",
   "metadata": {},
   "outputs": [],
   "source": [
    "val_upload_response = client.files.create(\n",
    "    file = Path(val_file_name),\n",
    "    purpose = \"fine-tune\"\n",
    ")"
   ]
  },
  {
   "cell_type": "code",
   "execution_count": null,
   "id": "29c803d6-fa65-44fa-9a67-65b96ae8f608",
   "metadata": {},
   "outputs": [],
   "source": [
    "val_upload_response"
   ]
  },
  {
   "cell_type": "code",
   "execution_count": null,
   "id": "f8945390-a59f-480a-98da-21e070eb54f2",
   "metadata": {},
   "outputs": [],
   "source": [
    "val_file_id = val_upload_response.id\n",
    "val_file_id"
   ]
  },
  {
   "cell_type": "markdown",
   "id": "9fc20229-021d-4857-938c-54babda2e325",
   "metadata": {},
   "source": [
    "### Test set"
   ]
  },
  {
   "cell_type": "raw",
   "id": "7f796704-ca46-4922-becd-0d49dc0c7917",
   "metadata": {},
   "source": [
    "test_upload_response = client.files.create(\n",
    "    file = Path(test_file_name),\n",
    "    purpose = \"fine-tune\"\n",
    ")"
   ]
  },
  {
   "cell_type": "raw",
   "id": "2733cfb9-1d80-43d3-b38d-8de791698640",
   "metadata": {},
   "source": [
    "test_upload_response"
   ]
  },
  {
   "cell_type": "raw",
   "id": "cc948baa-2a0d-4d98-a323-8a30566877c2",
   "metadata": {},
   "source": [
    "test_file_id = test_upload_response.id\n",
    "test_file_id"
   ]
  },
  {
   "cell_type": "markdown",
   "id": "3e1007a6",
   "metadata": {},
   "source": [
    "## Fine-tune model"
   ]
  },
  {
   "cell_type": "code",
   "execution_count": null,
   "id": "5001b848-a9df-41c9-90c3-767e948cc17e",
   "metadata": {},
   "outputs": [],
   "source": [
    "# Launch fine-tuning\n",
    "\n",
    "finetune_response = client.fine_tuning.jobs.create(\n",
    "    training_file = train_file_id,\n",
    "    validation_file = val_file_id,\n",
    "    model = \"gpt-3.5-turbo\",\n",
    "    hyperparameters = {\"n_epochs\": 2},\n",
    "    suffix = \"pe_finetune_v2c\"\n",
    ")"
   ]
  },
  {
   "cell_type": "code",
   "execution_count": null,
   "id": "acf26822-1066-4fa9-ac01-6f8cdff60574",
   "metadata": {},
   "outputs": [],
   "source": [
    "print(finetune_response.id)"
   ]
  },
  {
   "cell_type": "code",
   "execution_count": null,
   "id": "8cc7d767-b12b-4fdc-8cd1-dbf5c089939d",
   "metadata": {
    "scrolled": true,
    "tags": []
   },
   "outputs": [],
   "source": [
    "# Checking progress\n",
    "\n",
    "finetune_events = client.fine_tuning.jobs.list_events(fine_tuning_job_id=finetune_response.id, limit=10)\n",
    "finetune_events.model_dump()"
   ]
  },
  {
   "cell_type": "code",
   "execution_count": null,
   "id": "a16b21e6-ca6e-4175-a308-adf1087050e5",
   "metadata": {
    "scrolled": true,
    "tags": []
   },
   "outputs": [],
   "source": [
    "retrieve_response = client.fine_tuning.jobs.retrieve(finetune_response.id)\n",
    "retrieve_response.model_dump()"
   ]
  },
  {
   "cell_type": "markdown",
   "id": "07e846ed",
   "metadata": {},
   "source": [
    "## Save fine-tuned model"
   ]
  },
  {
   "cell_type": "code",
   "execution_count": null,
   "id": "73f756f7-5449-4520-9464-de25c7270836",
   "metadata": {},
   "outputs": [],
   "source": [
    "# Option 3\n",
    "\n",
    "if retrieve_response.fine_tuned_model == None:\n",
    "    \n",
    "    finetuned_model = client.fine_tuning.jobs.retrieve(\"<JOB ID from API>\").fine_tuned_model\n",
    "\n",
    "else:\n",
    "    \n",
    "    finetuned_model = retrieve_response.model_dump()[\"fine_tuned_model\"]"
   ]
  },
  {
   "cell_type": "code",
   "execution_count": null,
   "id": "2c327c42",
   "metadata": {},
   "outputs": [],
   "source": [
    "finetuned_model = retrieve_response.model_dump()[\"fine_tuned_model\"]"
   ]
  },
  {
   "cell_type": "code",
   "execution_count": null,
   "id": "6302c323-b95b-4f8c-baae-26dc684b6044",
   "metadata": {},
   "outputs": [],
   "source": [
    "finetuned_model"
   ]
  },
  {
   "cell_type": "markdown",
   "id": "8601df11",
   "metadata": {},
   "source": [
    "## Evaluate on test set"
   ]
  },
  {
   "cell_type": "code",
   "execution_count": null,
   "id": "aa5d0b37-ce31-45c7-8610-b0b1de5782bc",
   "metadata": {},
   "outputs": [],
   "source": [
    "# Evaluate the whole test set\n",
    "\n",
    "predictions_l = []\n",
    "\n",
    "with open(os.path.join(data_dir, \"data_test_v2.jsonl\"), 'r') as fh:\n",
    "    \n",
    "    lines_l = [json.loads(line) for line in fh]\n",
    "    \n",
    "    for i, line in enumerate(lines_l):\n",
    "        \n",
    "        if i%100 == 0:\n",
    "            print(f\"{i} samples processed\")\n",
    "        \n",
    "        messages = line[\"messages\"]\n",
    "        \n",
    "        response = client.chat.completions.create(\n",
    "        model=finetuned_model,\n",
    "        messages=messages\n",
    "        )\n",
    "\n",
    "        predictions_l.append(response.choices[0].message.content)"
   ]
  },
  {
   "cell_type": "code",
   "execution_count": null,
   "id": "af6d5b99-bef6-4894-89c9-ead2a2426aaa",
   "metadata": {},
   "outputs": [],
   "source": [
    "len(predictions_l)"
   ]
  },
  {
   "cell_type": "code",
   "execution_count": null,
   "id": "b235236b",
   "metadata": {},
   "outputs": [],
   "source": [
    "set(predictions_l)"
   ]
  },
  {
   "cell_type": "code",
   "execution_count": null,
   "id": "1741f6a5",
   "metadata": {},
   "outputs": [],
   "source": [
    "for i, x in enumerate(predictions_l):\n",
    "    if x == 'Premise':\n",
    "        predictions_l[i] = 'premise'"
   ]
  },
  {
   "cell_type": "code",
   "execution_count": null,
   "id": "df79a14b",
   "metadata": {},
   "outputs": [],
   "source": [
    "set(predictions_l)"
   ]
  },
  {
   "cell_type": "code",
   "execution_count": null,
   "id": "e5978135-2171-4043-80d1-4fa3bc54a7f5",
   "metadata": {},
   "outputs": [],
   "source": [
    "with open(os.path.join(data_dir, 'predictions_l_v2.pkl'), 'wb') as f:\n",
    "    \n",
    "    pickle.dump(predictions_l, f)"
   ]
  },
  {
   "cell_type": "raw",
   "id": "2f1e86e1-1e0b-468e-83d8-d11e09733192",
   "metadata": {},
   "source": [
    "with open(os.path.join(data_dir, 'predictions_l_v2.pkl'), 'rb') as f:\n",
    "    \n",
    "    predictions_l2 = pickle.load(f)"
   ]
  },
  {
   "cell_type": "raw",
   "id": "df0c0bfa-debf-4e6a-8247-d029952e9be1",
   "metadata": {},
   "source": [
    "predictions_l == predictions_l2"
   ]
  },
  {
   "cell_type": "markdown",
   "id": "4d25b453-6278-4e2e-a47d-8e785cf221ae",
   "metadata": {},
   "source": [
    "## Results"
   ]
  },
  {
   "cell_type": "code",
   "execution_count": null,
   "id": "59afc7d7-3ea4-473a-9a86-8796166e04ce",
   "metadata": {},
   "outputs": [],
   "source": [
    "df = pd.read_csv(os.path.join(data_dir, \"persuasive_essays_dataset.csv\"), index_col=0)"
   ]
  },
  {
   "cell_type": "code",
   "execution_count": null,
   "id": "f3d3bd46-3089-4c41-9367-bf336918b259",
   "metadata": {},
   "outputs": [],
   "source": [
    "grounds_l = list(df[df.split == 'TEST'].label.values)"
   ]
  },
  {
   "cell_type": "code",
   "execution_count": null,
   "id": "3953bd4a-0730-4bf4-81cc-5cbd9cbb9610",
   "metadata": {},
   "outputs": [],
   "source": [
    "# grounds_l"
   ]
  },
  {
   "cell_type": "code",
   "execution_count": null,
   "id": "34d3d44a-4021-40df-a7b8-97ce7ca2cded",
   "metadata": {},
   "outputs": [],
   "source": [
    "grounds_l = list(map(lambda x: x.replace(\"MajorClaim\", \"major claim\"), grounds_l))\n",
    "grounds_l = list(map(lambda x: x.replace(\"Claim\", \"claim\"), grounds_l))\n",
    "grounds_l = list(map(lambda x: x.replace(\"Premise\", \"premise\"), grounds_l))"
   ]
  },
  {
   "cell_type": "code",
   "execution_count": null,
   "id": "35a557d6-49c4-4522-b5d3-e6bca714bcb5",
   "metadata": {},
   "outputs": [],
   "source": [
    "print(classification_report(grounds_l, predictions_l, digits=3))"
   ]
  },
  {
   "cell_type": "markdown",
   "id": "9685ef56",
   "metadata": {},
   "source": [
    "### Results for 1 epoch\n",
    "```\n",
    "              precision    recall  f1-score   support\n",
    "\n",
    "       claim      0.727     0.763     0.745       304\n",
    " major claim      0.855     0.961     0.905       153\n",
    "     premise      0.935     0.896     0.915       809\n",
    "\n",
    "    accuracy                          0.872      1266\n",
    "   macro avg      0.839     0.873     0.855      1266\n",
    "weighted avg      0.876     0.872     0.873      1266\n",
    "```"
   ]
  },
  {
   "cell_type": "markdown",
   "id": "ab845c08",
   "metadata": {},
   "source": [
    "### Results for 2 epochs\n",
    "```\n",
    "              precision    recall  f1-score   support\n",
    "\n",
    "       claim      0.744     0.737     0.740       304\n",
    " major claim      0.946     0.922     0.934       153\n",
    "     premise      0.911     0.918     0.914       809\n",
    "\n",
    "    accuracy                          0.875      1266\n",
    "   macro avg      0.867     0.859     0.863      1266\n",
    "weighted avg      0.875     0.875     0.875      1266\n",
    "```"
   ]
  },
  {
   "cell_type": "code",
   "execution_count": null,
   "id": "a350b8fb",
   "metadata": {},
   "outputs": [],
   "source": []
  }
 ],
 "metadata": {
  "kernelspec": {
   "display_name": "base",
   "language": "python",
   "name": "base"
  },
  "language_info": {
   "codemirror_mode": {
    "name": "ipython",
    "version": 3
   },
   "file_extension": ".py",
   "mimetype": "text/x-python",
   "name": "python",
   "nbconvert_exporter": "python",
   "pygments_lexer": "ipython3",
   "version": "3.9.5"
  }
 },
 "nbformat": 4,
 "nbformat_minor": 5
}
