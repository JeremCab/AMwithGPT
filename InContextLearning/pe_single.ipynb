{
 "cells": [
  {
   "cell_type": "markdown",
   "id": "2bb032a0-60e2-48b5-ace8-711f31a53bdd",
   "metadata": {},
   "source": [
    "# k-NN Few-shot classification w/ GPT on Persuasive Essays"
   ]
  },
  {
   "cell_type": "markdown",
   "id": "e4d0fc34-a175-4d23-95a2-f10b4fcb8f33",
   "metadata": {},
   "source": [
    "## \"Single\" approach"
   ]
  },
  {
   "cell_type": "code",
   "execution_count": 2,
   "id": "46a90083-2ff7-4f6c-82cb-b5ab6e7372c1",
   "metadata": {},
   "outputs": [],
   "source": [
    "import os\n",
    "import copy\n",
    "import json\n",
    "import time\n",
    "import pickle\n",
    "import random\n",
    "from operator import itemgetter\n",
    "\n",
    "import openai\n",
    "import numpy as np\n",
    "import pandas as pd\n",
    "from scipy.spatial.distance import cosine\n",
    "from openai.embeddings_utils import get_embedding\n",
    "from sklearn.metrics import classification_report\n",
    "from sklearn.metrics import accuracy_score, f1_score\n",
    "from dotenv import load_dotenv"
   ]
  },
  {
   "cell_type": "code",
   "execution_count": 3,
   "id": "7a2c9b05-8a62-4503-bace-236efccada3a",
   "metadata": {},
   "outputs": [
    {
     "data": {
      "text/plain": [
       "True"
      ]
     },
     "execution_count": 3,
     "metadata": {},
     "output_type": "execute_result"
    }
   ],
   "source": [
    "load_dotenv(verbose=True)"
   ]
  },
  {
   "cell_type": "markdown",
   "id": "7261b07a-100c-4424-bfcb-3c5ae95dbc06",
   "metadata": {},
   "source": [
    "#### OpenAI Set-up"
   ]
  },
  {
   "cell_type": "code",
   "execution_count": 4,
   "id": "62e67bb2-939a-414f-af9b-bbd5141181e8",
   "metadata": {},
   "outputs": [],
   "source": [
    "openai.api_type = \"azure\"\n",
    "openai.api_base = \"https://your.endpoint.url.com/\"\n",
    "openai.api_version = \"2023-07-01-preview\"\n",
    "openai.api_key = os.getenv(\"OPENAI_KEY\")  # This key should be in a local .env file\n",
    "\n",
    "ENGINE_NAME='gpt-4'\n",
    "EMBEDDING_ENGINE_NAME='ada-2'"
   ]
  },
  {
   "cell_type": "code",
   "execution_count": 8,
   "id": "87a21847-2936-4cac-b7c9-dc6cac2a169a",
   "metadata": {},
   "outputs": [],
   "source": [
    "df = pd.read_csv(os.path.join('data', 'pe_dataset.csv'))"
   ]
  },
  {
   "cell_type": "code",
   "execution_count": 9,
   "id": "19bc1fd0-f036-4b61-9c69-2ed88ff74b5a",
   "metadata": {},
   "outputs": [],
   "source": [
    "df = df[df.columns[1:]]"
   ]
  },
  {
   "cell_type": "code",
   "execution_count": 10,
   "id": "35c71f6a-0ece-4890-8b06-b59943f9d8ec",
   "metadata": {},
   "outputs": [
    {
     "data": {
      "text/html": [
       "<div>\n",
       "<style scoped>\n",
       "    .dataframe tbody tr th:only-of-type {\n",
       "        vertical-align: middle;\n",
       "    }\n",
       "\n",
       "    .dataframe tbody tr th {\n",
       "        vertical-align: top;\n",
       "    }\n",
       "\n",
       "    .dataframe thead th {\n",
       "        text-align: right;\n",
       "    }\n",
       "</style>\n",
       "<table border=\"1\" class=\"dataframe\">\n",
       "  <thead>\n",
       "    <tr style=\"text-align: right;\">\n",
       "      <th></th>\n",
       "      <th>split</th>\n",
       "      <th>title</th>\n",
       "      <th>argument_bound_1</th>\n",
       "      <th>argument_bound_2</th>\n",
       "      <th>argument_id</th>\n",
       "      <th>ac</th>\n",
       "      <th>label</th>\n",
       "      <th>essay</th>\n",
       "    </tr>\n",
       "  </thead>\n",
       "  <tbody>\n",
       "    <tr>\n",
       "      <th>0</th>\n",
       "      <td>TRAIN</td>\n",
       "      <td>Should students be taught to compete or to coo...</td>\n",
       "      <td>503</td>\n",
       "      <td>575</td>\n",
       "      <td>1</td>\n",
       "      <td>we should attach more importance to cooperatio...</td>\n",
       "      <td>MajorClaim</td>\n",
       "      <td>Should students be taught to compete or to coo...</td>\n",
       "    </tr>\n",
       "    <tr>\n",
       "      <th>1</th>\n",
       "      <td>TRAIN</td>\n",
       "      <td>Should students be taught to compete or to coo...</td>\n",
       "      <td>591</td>\n",
       "      <td>714</td>\n",
       "      <td>2</td>\n",
       "      <td>through cooperation, children can learn about ...</td>\n",
       "      <td>Claim</td>\n",
       "      <td>Should students be taught to compete or to coo...</td>\n",
       "    </tr>\n",
       "    <tr>\n",
       "      <th>2</th>\n",
       "      <td>TRAIN</td>\n",
       "      <td>Should students be taught to compete or to coo...</td>\n",
       "      <td>716</td>\n",
       "      <td>851</td>\n",
       "      <td>3</td>\n",
       "      <td>What we acquired from team work is not only ho...</td>\n",
       "      <td>Premise</td>\n",
       "      <td>Should students be taught to compete or to coo...</td>\n",
       "    </tr>\n",
       "    <tr>\n",
       "      <th>3</th>\n",
       "      <td>TRAIN</td>\n",
       "      <td>Should students be taught to compete or to coo...</td>\n",
       "      <td>853</td>\n",
       "      <td>1086</td>\n",
       "      <td>4</td>\n",
       "      <td>During the process of cooperation, children ca...</td>\n",
       "      <td>Premise</td>\n",
       "      <td>Should students be taught to compete or to coo...</td>\n",
       "    </tr>\n",
       "    <tr>\n",
       "      <th>4</th>\n",
       "      <td>TRAIN</td>\n",
       "      <td>Should students be taught to compete or to coo...</td>\n",
       "      <td>1088</td>\n",
       "      <td>1191</td>\n",
       "      <td>5</td>\n",
       "      <td>All of these skills help them to get on well w...</td>\n",
       "      <td>Premise</td>\n",
       "      <td>Should students be taught to compete or to coo...</td>\n",
       "    </tr>\n",
       "    <tr>\n",
       "      <th>...</th>\n",
       "      <td>...</td>\n",
       "      <td>...</td>\n",
       "      <td>...</td>\n",
       "      <td>...</td>\n",
       "      <td>...</td>\n",
       "      <td>...</td>\n",
       "      <td>...</td>\n",
       "      <td>...</td>\n",
       "    </tr>\n",
       "    <tr>\n",
       "      <th>6084</th>\n",
       "      <td>TRAIN</td>\n",
       "      <td>Children should studying hard or playing sport...</td>\n",
       "      <td>1275</td>\n",
       "      <td>1339</td>\n",
       "      <td>11</td>\n",
       "      <td>indirectly they will learn how to socialize ea...</td>\n",
       "      <td>Premise</td>\n",
       "      <td>Children should studying hard or playing sport...</td>\n",
       "    </tr>\n",
       "    <tr>\n",
       "      <th>6085</th>\n",
       "      <td>TRAIN</td>\n",
       "      <td>Children should studying hard or playing sport...</td>\n",
       "      <td>1341</td>\n",
       "      <td>1388</td>\n",
       "      <td>12</td>\n",
       "      <td>That will make children getting lots of friends</td>\n",
       "      <td>Premise</td>\n",
       "      <td>Children should studying hard or playing sport...</td>\n",
       "    </tr>\n",
       "    <tr>\n",
       "      <th>6086</th>\n",
       "      <td>TRAIN</td>\n",
       "      <td>Children should studying hard or playing sport...</td>\n",
       "      <td>1393</td>\n",
       "      <td>1436</td>\n",
       "      <td>13</td>\n",
       "      <td>they can contribute positively to community</td>\n",
       "      <td>Premise</td>\n",
       "      <td>Children should studying hard or playing sport...</td>\n",
       "    </tr>\n",
       "    <tr>\n",
       "      <th>6087</th>\n",
       "      <td>TRAIN</td>\n",
       "      <td>Children should studying hard or playing sport...</td>\n",
       "      <td>1448</td>\n",
       "      <td>1525</td>\n",
       "      <td>14</td>\n",
       "      <td>playing sport makes children getting healthy a...</td>\n",
       "      <td>Premise</td>\n",
       "      <td>Children should studying hard or playing sport...</td>\n",
       "    </tr>\n",
       "    <tr>\n",
       "      <th>6088</th>\n",
       "      <td>TRAIN</td>\n",
       "      <td>Children should studying hard or playing sport...</td>\n",
       "      <td>1543</td>\n",
       "      <td>1620</td>\n",
       "      <td>15</td>\n",
       "      <td>both studying hard at school and playing sport...</td>\n",
       "      <td>MajorClaim</td>\n",
       "      <td>Children should studying hard or playing sport...</td>\n",
       "    </tr>\n",
       "  </tbody>\n",
       "</table>\n",
       "<p>6089 rows × 8 columns</p>\n",
       "</div>"
      ],
      "text/plain": [
       "      split                                              title  \\\n",
       "0     TRAIN  Should students be taught to compete or to coo...   \n",
       "1     TRAIN  Should students be taught to compete or to coo...   \n",
       "2     TRAIN  Should students be taught to compete or to coo...   \n",
       "3     TRAIN  Should students be taught to compete or to coo...   \n",
       "4     TRAIN  Should students be taught to compete or to coo...   \n",
       "...     ...                                                ...   \n",
       "6084  TRAIN  Children should studying hard or playing sport...   \n",
       "6085  TRAIN  Children should studying hard or playing sport...   \n",
       "6086  TRAIN  Children should studying hard or playing sport...   \n",
       "6087  TRAIN  Children should studying hard or playing sport...   \n",
       "6088  TRAIN  Children should studying hard or playing sport...   \n",
       "\n",
       "      argument_bound_1  argument_bound_2  argument_id  \\\n",
       "0                  503               575            1   \n",
       "1                  591               714            2   \n",
       "2                  716               851            3   \n",
       "3                  853              1086            4   \n",
       "4                 1088              1191            5   \n",
       "...                ...               ...          ...   \n",
       "6084              1275              1339           11   \n",
       "6085              1341              1388           12   \n",
       "6086              1393              1436           13   \n",
       "6087              1448              1525           14   \n",
       "6088              1543              1620           15   \n",
       "\n",
       "                                                     ac       label  \\\n",
       "0     we should attach more importance to cooperatio...  MajorClaim   \n",
       "1     through cooperation, children can learn about ...       Claim   \n",
       "2     What we acquired from team work is not only ho...     Premise   \n",
       "3     During the process of cooperation, children ca...     Premise   \n",
       "4     All of these skills help them to get on well w...     Premise   \n",
       "...                                                 ...         ...   \n",
       "6084  indirectly they will learn how to socialize ea...     Premise   \n",
       "6085    That will make children getting lots of friends     Premise   \n",
       "6086        they can contribute positively to community     Premise   \n",
       "6087  playing sport makes children getting healthy a...     Premise   \n",
       "6088  both studying hard at school and playing sport...  MajorClaim   \n",
       "\n",
       "                                                  essay  \n",
       "0     Should students be taught to compete or to coo...  \n",
       "1     Should students be taught to compete or to coo...  \n",
       "2     Should students be taught to compete or to coo...  \n",
       "3     Should students be taught to compete or to coo...  \n",
       "4     Should students be taught to compete or to coo...  \n",
       "...                                                 ...  \n",
       "6084  Children should studying hard or playing sport...  \n",
       "6085  Children should studying hard or playing sport...  \n",
       "6086  Children should studying hard or playing sport...  \n",
       "6087  Children should studying hard or playing sport...  \n",
       "6088  Children should studying hard or playing sport...  \n",
       "\n",
       "[6089 rows x 8 columns]"
      ]
     },
     "execution_count": 10,
     "metadata": {},
     "output_type": "execute_result"
    }
   ],
   "source": [
    "df"
   ]
  },
  {
   "cell_type": "markdown",
   "id": "dc013940-34bd-4870-8f36-a2250474bd10",
   "metadata": {},
   "source": [
    "#### Embed all essay titles"
   ]
  },
  {
   "cell_type": "code",
   "execution_count": null,
   "id": "72dd6d19-c3b3-4550-ad6b-734e86d5db3a",
   "metadata": {},
   "outputs": [],
   "source": [
    "title_embed_d = {}\n",
    "for title in df.title.unique():\n",
    "    print(title)\n",
    "    while True:\n",
    "        try:\n",
    "            a = np.array(get_embedding(title, engine=EMBEDDING_ENGINE_NAME))\n",
    "            title_embed_d[title] = a\n",
    "            break\n",
    "        except Exception as e:\n",
    "            print(e)\n",
    "            time.sleep(1)"
   ]
  },
  {
   "cell_type": "code",
   "execution_count": null,
   "id": "a660e761-df9c-4bb6-b012-7e3cdb04c30e",
   "metadata": {},
   "outputs": [],
   "source": [
    "df['title_embedding'] = df.title.apply(lambda x: title_embed_d[x])"
   ]
  },
  {
   "cell_type": "code",
   "execution_count": 22,
   "id": "9228599f-e077-46b5-a7df-c75419a6e603",
   "metadata": {},
   "outputs": [],
   "source": [
    "def get_k_neighbours(k, title, df):\n",
    "\n",
    "    title_embed_d = {}\n",
    "    for e in df.iterrows():\n",
    "        if e[1].title not in title_embed_d:\n",
    "            title_embed_d[e[1].title] = e[1].title_embedding\n",
    "\n",
    "    train_titles = set(df[df.split == 'TRAIN'].title.unique())\n",
    "\n",
    "    dist_l = []\n",
    "    for t, v in title_embed_d.items():\n",
    "        if t in train_titles:\n",
    "            d = cosine(title_embed_d[title], v)\n",
    "            dist_l.append((t, d))\n",
    "\n",
    "    sorted_dist_l = sorted(dist_l, key=itemgetter(1))\n",
    "    \n",
    "    return sorted_dist_l[: k]"
   ]
  },
  {
   "cell_type": "markdown",
   "id": "92156bbe-4069-4289-ac4c-a41fb76ac1ee",
   "metadata": {},
   "source": [
    "##### Test: Given a random title, fetch the 3 most similar titles."
   ]
  },
  {
   "cell_type": "code",
   "execution_count": 23,
   "id": "245645c7-67a9-44bd-bbe0-473248ef6c0d",
   "metadata": {},
   "outputs": [
    {
     "data": {
      "text/plain": [
       "[('Large amount of violence in television programs', 0.13445186701270984),\n",
       " ('TV has adverse effects on friends and family', 0.1376546350015473),\n",
       " ('Television and Movies influence our lives both negatively and positively',\n",
       "  0.14467761331309636)]"
      ]
     },
     "execution_count": 23,
     "metadata": {},
     "output_type": "execute_result"
    }
   ],
   "source": [
    "get_k_neighbours(3, 'Detailed description of crimes on newspaper and TV can have bad consequences on society', df)"
   ]
  },
  {
   "cell_type": "code",
   "execution_count": 24,
   "id": "8d1f7870-d20d-4669-814d-00b5b90cdebb",
   "metadata": {},
   "outputs": [],
   "source": [
    "def prepare_similar_example_prompts(title, k=5):\n",
    "    \"\"\"\n",
    "    Create a part of prompt made of k examples in the train set, whose topic is most similar to a given title.\n",
    "    \"\"\"\n",
    "\n",
    "    neighbours_l = get_k_neighbours(k, title, df)\n",
    "\n",
    "    prompt = ''\n",
    "    cnt = 0\n",
    "    for i, (title, dist) in enumerate(neighbours_l):\n",
    "        prompt += f'# Example {i+1}\\n'\n",
    "\n",
    "        example_df = df[(df.split == 'TRAIN') & (df.title == title)]\n",
    "        \n",
    "        for k in example_df.iterrows():\n",
    "            if k[1].argument_id == 1:\n",
    "                prompt += f'Essay:\\n{example_df.iloc[0].essay}\\n\\n'\n",
    "                cnt = 0\n",
    "                \n",
    "            prompt += f'Argument {cnt + 1}={k[1].ac} - Class={k[1].label}\\n'\n",
    "            cnt += 1\n",
    "\n",
    "        prompt += '\\n\\n'\n",
    "\n",
    "    return prompt"
   ]
  },
  {
   "cell_type": "markdown",
   "id": "bff3ad19-6698-48ac-a824-40101b4a775c",
   "metadata": {},
   "source": [
    "##### Test: Print 3 similar examples passed to the prompt for essay 'International tourism is now more common than ever before'"
   ]
  },
  {
   "cell_type": "code",
   "execution_count": 25,
   "id": "7662a842-decd-4254-846d-a222b58050c7",
   "metadata": {},
   "outputs": [
    {
     "name": "stdout",
     "output_type": "stream",
     "text": [
      "# Example 1\n",
      "Essay:\n",
      "International tourism is now more common than ever before\n",
      "\n",
      "The last decade has seen an increasing number of tourists traveling to visit natural wonder sights, ancient heritages and different cultures around the world. While some people might think that this international tourism has negative effects on the destination countries, I would contend that it has contributed to the economic development as well as preserved the culture and environment of the tourist destinations. \n",
      "Firstly, international tourism promotes many aspects of the destination country’s economy in order to serve various demands of tourists. Take Cambodia for example, a large number of visitors coming to visit the Angkowat ancient temple need services like restaurants, hotels, souvenir shops and other stores. These demands trigger related business in the surrounding settings which in turn create many jobs for local people improve infrastructure and living standard. Therefore tourism has clearly improved lives in the tourist country.\n",
      "Secondly, through tourism industry, many cultural values have been preserved and natural environments have been protected. For instance, in Vietnam, many cultural costumes and natural scenes, namely ‘Trong Dong’ drum performance and ‘Ha Long’ bay, are being encouraged to preserve and funded by the tourism ministry. Without this support and profit from tourism, many traditional cultures would disappear due to its low income works. Thus, tourism has survived many non-tangible cultural values and beauty scenes. \n",
      "To conclude, as far as I am concerned, international tourism has both triggered economic development and maintained cultural and environment values of the tourist countries. In addition, the authorities should adequately support these sustainable developments.\n",
      "\n",
      "Argument 1=it has contributed to the economic development as well as preserved the culture and environment of the tourist destinations - Class=MajorClaim\n",
      "Argument 2=international tourism promotes many aspects of the destination country’s economy in order to serve various demands of tourists - Class=Premise\n",
      "Argument 3=Take Cambodia for example, a large number of visitors coming to visit the Angkowat ancient temple need services like restaurants, hotels, souvenir shops and other stores - Class=Premise\n",
      "Argument 4=These demands trigger related business in the surrounding settings which in turn create many jobs for local people improve infrastructure and living standard - Class=Premise\n",
      "Argument 5=tourism has clearly improved lives in the tourist country - Class=Claim\n",
      "Argument 6=through tourism industry, many cultural values have been preserved and natural environments have been protected - Class=Premise\n",
      "Argument 7=in Vietnam, many cultural costumes and natural scenes, namely ‘Trong Dong’ drum performance and ‘Ha Long’ bay, are being encouraged to preserve and funded by the tourism ministry - Class=Premise\n",
      "Argument 8=Without this support and profit from tourism, many traditional cultures would disappear due to its low income works - Class=Premise\n",
      "Argument 9=tourism has survived many non-tangible cultural values and beauty scenes - Class=Claim\n",
      "Argument 10=international tourism has both triggered economic development and maintained cultural and environment values of the tourist countries - Class=MajorClaim\n",
      "\n",
      "\n",
      "# Example 2\n",
      "Essay:\n",
      "More people are migrating to other countries than ever before\n",
      "\n",
      "The last 50 years have seen an increasing number of immigrants to other countries. People moved due to a number of reasons, namely better educations or higher salary jobs. Some people thought that they should follow the local customs in order to integrate into their adopted countries’ cultures. However I strongly believe that they are able to sustain their cultural identities and doing so help they keep their origin values.\n",
      "Firstly, maintaining one’s cultural identity is a key important rule to help individuals emerge in the new multicultural environments. Take Australia for example, immigrants from varieties of nations have a day called multicultural day where people from each country prepare their food and traditional activities for displaying in the public venues. Many Australians come this day to enjoy the shows, learn about the cultures and admire the diverse values. These feedbacks, in turn, help raise one’s pride of their cultures and help people understand each other more. Thus this makes it clear that sustaining the cultural values of immigrants is paramount essential.\n",
      "Secondly, it is crucial to keep one’s identity for they need a connection back to their country as well as teach their children their value of origin. For instance, children immigrated to a new country will face social troubles in school with new friends. In this new environment, parent should find friends coming from their same country so that they can socialize in a very familiar manner as feeling being home. Fail to create this familiarity makes them felt isolated, in the extreme can lead to social disorder like autism. Hence, it is clear that keeping the cultural traditions in the destination countries is tremendous important.\n",
      "To conclude, although there are opposing ideas of neglecting one’s cultural values to adapt in the new cultures. As far as I am concerned, sustaining the traditions will make the immigrated people keep their cultural identity and give them confident among the many culture society.\n",
      "\n",
      "Argument 1=they are able to sustain their cultural identities and doing so help they keep their origin values - Class=MajorClaim\n",
      "Argument 2=maintaining one’s cultural identity is a key important rule to help individuals emerge in the new multicultural environments - Class=Premise\n",
      "Argument 3=Take Australia for example, immigrants from varieties of nations have a day called multicultural day where people from each country prepare their food and traditional activities for displaying in the public venues - Class=Premise\n",
      "Argument 4=Many Australians come this day to enjoy the shows, learn about the cultures and admire the diverse values - Class=Premise\n",
      "Argument 5=These feedbacks, in turn, help raise one’s pride of their cultures and help people understand each other more - Class=Premise\n",
      "Argument 6=sustaining the cultural values of immigrants is paramount essential - Class=Claim\n",
      "Argument 7=it is crucial to keep one’s identity - Class=Premise\n",
      "Argument 8=they need a connection back to their country as well as teach their children their value of origin - Class=Premise\n",
      "Argument 9=children immigrated to a new country will face social troubles in school with new friends - Class=Premise\n",
      "Argument 10=In this new environment, parent should find friends coming from their same country so that they can socialize in a very familiar manner as feeling being home - Class=Premise\n",
      "Argument 11=Fail to create this familiarity makes them felt isolated, in the extreme can lead to social disorder like autism - Class=Premise\n",
      "Argument 12=keeping the cultural traditions in the destination countries is tremendous important - Class=Claim\n",
      "Argument 13=there are opposing ideas of neglecting one’s cultural values to adapt in the new cultures - Class=Claim\n",
      "Argument 14=sustaining the traditions will make the immigrated people keep their cultural identity and give them confident among the many culture society - Class=MajorClaim\n",
      "\n",
      "\n",
      "# Example 3\n",
      "Essay:\n",
      "Problems and benefits of international tourism\n",
      "\n",
      "Along with the advancement of long-distance transportation, international tourism has boomed in the last few decades. Some people believe that this has brought more problems than benefits. I disagree with this view.\n",
      "I admit that tourism can have a negative impact on the natural environment. In order to meet the needs of tourists, local governments are likely to build more facilities and infrastructures around tourist attractions, which may result in the destruction of natural habitats. Tourism also creates more pollution and waste, including growing emission of greenhouse gases, dumped leftovers and overuse of water, power and other kind of energy in luxurious hotels. Based on these grounds, it seems that tourism puts great pressure on ecosystem and local resources, and it should not be encouraged.\n",
      "However, flourishing tourism in a place can be very rewarding in terms of local economy. Holiday makers flocking to other countries are not only bound to spend on tickets of attractions, but also pay for food, accommodation, transportation and entertainment. Both local people and governments can make a large amount of money through these services, and more employment opportunities can be created as well. I also believe the revenue earned form tourism can be used in turn to reduce pollution and protect the environment.\n",
      "Furthermore, the increasing development of tourism is a boon to travelers as well. The provision of direct airlines makes it possible for them to travel conveniently and comfortably. With adequate local facilities and services available, they can spend more of their holidays having fun and relaxing. In addition, both locals and tourists can experience more cultures than ever before, and they can be more open-minded to eliminate preconceptions and deepen mutual understanding among nations.\n",
      "In conclusion, the prosperity of tourism can provide benefits for people on a global scale. Although there are some inevitable problems, they are outweighed by advantages and can be tackled if proper measures are taken.\n",
      "\n",
      "Argument 1=tourism can have a negative impact on the natural environment - Class=Claim\n",
      "Argument 2=In order to meet the needs of tourists, local governments are likely to build more facilities and infrastructures around tourist attractions, which may result in the destruction of natural habitats - Class=Premise\n",
      "Argument 3=Tourism also creates more pollution and waste, including growing emission of greenhouse gases, dumped leftovers and overuse of water, power and other kind of energy in luxurious hotels - Class=Premise\n",
      "Argument 4=tourism puts great pressure on ecosystem and local resources, and it should not be encouraged - Class=Premise\n",
      "Argument 5=flourishing tourism in a place can be very rewarding in terms of local economy - Class=Claim\n",
      "Argument 6=Holiday makers flocking to other countries are not only bound to spend on tickets of attractions, but also pay for food, accommodation, transportation and entertainment - Class=Premise\n",
      "Argument 7=Both local people and governments can make a large amount of money through these services, and more employment opportunities can be created as well - Class=Premise\n",
      "Argument 8=the revenue earned form tourism can be used in turn to reduce pollution and protect the environment - Class=Premise\n",
      "Argument 9=the increasing development of tourism is a boon to travelers as well - Class=Claim\n",
      "Argument 10=The provision of direct airlines makes it possible for them to travel conveniently and comfortably - Class=Premise\n",
      "Argument 11=With adequate local facilities and services available, they can spend more of their holidays having fun and relaxing - Class=Premise\n",
      "Argument 12=both locals and tourists can experience more cultures than ever before, and they can be more open-minded to eliminate preconceptions and deepen mutual understanding among nations - Class=Premise\n",
      "Argument 13=the prosperity of tourism can provide benefits for people on a global scale - Class=MajorClaim\n",
      "Argument 14=there are some inevitable problems - Class=Claim\n",
      "Argument 15=they are outweighed by advantages and can be tackled if proper measures are taken - Class=Premise\n",
      "\n",
      "\n",
      "\n"
     ]
    }
   ],
   "source": [
    "print(prepare_similar_example_prompts('International tourism is now more common than ever before', k=3))"
   ]
  },
  {
   "cell_type": "markdown",
   "id": "362b92e0-05c6-472c-addb-384980dc0328",
   "metadata": {},
   "source": [
    "### Prepare system/user messages for all essays in test set"
   ]
  },
  {
   "cell_type": "code",
   "execution_count": 30,
   "id": "d1f86bbc-f340-4fe8-9af4-fa0edd46269d",
   "metadata": {},
   "outputs": [],
   "source": [
    "majorclaim_fulldesc = \"\"\"The major claim represents the stance of the author about the essay topic. It is also called thesis statement and frequently indicated by opinion expressions like “From my point of view...”, “In my opinion...”, “I strongly believe that...”, etc. Usually, the major claim is present in the introduction or conclusion of an essay or in both. In the introduction it has the characteristics of a general assertion or an opinion with respect to the topic, whereas in the conclusion the major claim summarizes the argumentation according to the author’s stance.\"\"\""
   ]
  },
  {
   "cell_type": "code",
   "execution_count": 31,
   "id": "b6787041-58f3-4326-9c20-fbe03919f0d6",
   "metadata": {},
   "outputs": [],
   "source": [
    "claim_fulldesc = \"A claim in an body paragraph is the central component of an argument. It appears frequently as an initial assumption located at the beginning of a paragraph or as a conclusion near the end. In few cases, the claim might also be located somewhere between the statements of a paragraph. Most frequently, one paragraph includes a single unique claim and there are only few cases where several claims/arguments are included in a single body paragraph. In this case, a paragraph includes several arguments covering different topics or aspects related to the topic.\""
   ]
  },
  {
   "cell_type": "code",
   "execution_count": 32,
   "id": "9600113f-44ac-47da-b09b-7f57e94b1b51",
   "metadata": {},
   "outputs": [],
   "source": [
    "premise_fulldesc = \"A premise is a reason given for supporting or attacking an argument component. So it can be considered as a justification or refutation for convincing the reader of the truth or falsity of a claim.\""
   ]
  },
  {
   "cell_type": "code",
   "execution_count": 33,
   "id": "6f639a62-a42c-42bf-b636-320258529e73",
   "metadata": {},
   "outputs": [
    {
     "data": {
      "text/plain": [
       "label\n",
       "Premise       0.626788\n",
       "Claim         0.249222\n",
       "MajorClaim    0.123989\n",
       "Name: proportion, dtype: float64"
      ]
     },
     "execution_count": 33,
     "metadata": {},
     "output_type": "execute_result"
    }
   ],
   "source": [
    "df[df.split == 'TRAIN'].label.value_counts(normalize=True)"
   ]
  },
  {
   "cell_type": "code",
   "execution_count": 34,
   "id": "0b4b0299-6e0b-4f40-ae2f-70287fa8d33d",
   "metadata": {},
   "outputs": [],
   "source": [
    "proportion_desc = \"62.7% of examples are of type Premise, 24.9% of type Claim, and 12.4% of type MajorClaim.\""
   ]
  },
  {
   "cell_type": "code",
   "execution_count": 35,
   "id": "153c8ddb-a4b2-4be8-9bb2-90a90caeb5b0",
   "metadata": {},
   "outputs": [
    {
     "name": "stdout",
     "output_type": "stream",
     "text": [
      "CPU times: user 3min 27s, sys: 820 ms, total: 3min 28s\n",
      "Wall time: 3min 28s\n"
     ]
    }
   ],
   "source": [
    "%%time\n",
    "\n",
    "target_l = []\n",
    "prepared_sys_task_msg_l = []\n",
    "\n",
    "experiment_df = df[df.split == 'TEST']\n",
    "\n",
    "# Pre-prepare all examples from each document\n",
    "example_l = []\n",
    "buffer_l = []\n",
    "for e in experiment_df.iterrows():\n",
    "    if e[1].argument_id == 1 and len(buffer_l) > 0:\n",
    "        example_l.append(buffer_l)\n",
    "        buffer_l = []\n",
    "\n",
    "    buffer_l.append(e[1].ac)\n",
    "\n",
    "example_l.append(buffer_l)\n",
    "\n",
    "new_essay_l = []\n",
    "cnt = 0\n",
    "overall_cnt = -1\n",
    "for i, e in enumerate(experiment_df.iterrows()):\n",
    "\n",
    "    target = e[1].label\n",
    "\n",
    "    if e[1].argument_id == 1:\n",
    "        cnt = 0\n",
    "        overall_cnt += 1\n",
    "        new_essay_l.append(True)\n",
    "    else:\n",
    "        new_essay_l.append(False)\n",
    "\n",
    "    # Prepare numbered list of ACs in this example\n",
    "    other_acs_prompt = ''\n",
    "    for j, s in enumerate(example_l[overall_cnt]):\n",
    "        other_acs_prompt += f'Argument {j + 1}={s}\\n'\n",
    "\n",
    "    sys_msg = {\"role\":\"system\", \"content\": \"### Task description: You are an expert assistant that takes 1) an essay, 2) the list of all arguments from this essay, 2) a current argument from this essay, and must classify this current argument into three classes: MajorClaim, Claim, and Premise. \" + proportion_desc + \" You must return a JSON with format {\\\"prediction\\\": <predicted class (str)>}\\n\\n### Class definitions:\\nMajorClaim=\" + majorclaim_fulldesc + \"\\n\\nClaim=\" + claim_fulldesc + \"\\n\\nPremise=\" + premise_fulldesc + \"\\n\\n### Examples:\\n\" + prepare_similar_example_prompts(e[1].title, k=3)}  # Add proportion of classes\n",
    "    task_msg = {\"role\":\"user\", \"content\": f\"Essay:\\n{e[1].essay}\\n\\n{other_acs_prompt}\\n\\nCurrent Argument {cnt + 1}={e[1].ac}\"}\n",
    "\n",
    "    prepared_sys_task_msg_l.append([sys_msg, task_msg])\n",
    "    target_l.append(target)\n",
    "\n",
    "    cnt += 1"
   ]
  },
  {
   "cell_type": "code",
   "execution_count": null,
   "id": "4536e8f2-197e-4e0f-b307-8fa3b913459c",
   "metadata": {},
   "outputs": [],
   "source": [
    "random.seed(33)\n",
    "\n",
    "idx_l = range(len(target_l))\n",
    "\n",
    "subset_target_l = []\n",
    "prediction_l = []\n",
    "for i, idx in enumerate(idx_l):\n",
    "\n",
    "    if i % 10 == 0:\n",
    "        print(i, len(idx_l), accuracy_score(subset_target_l, prediction_l), f1_score(subset_target_l, prediction_l, average='macro'))\n",
    "\n",
    "    task_sys_msg, task_task_msg = prepared_sys_task_msg_l[idx]\n",
    "\n",
    "    cur_pred_l = []\n",
    "    \n",
    "    params_l = [(0.0, 0.1)]  # One call of temperature zero\n",
    "    # params_l = [(0.0, 0.1), (0.4, 0.3), (0.7, 0.8)]  # Three calls of various temperatures/top_p\n",
    "    # params_l = [(0.70, 0.80), (0.71, 0.81), (0.72, 0.82), (0.73, 0.83), (0.74, 0.84)]  # Five calls of close temperature/top_p\n",
    "    for temp, top in params_l:\n",
    "\n",
    "        while True:\n",
    "    \n",
    "            try:\n",
    "\n",
    "                new_task_msg = task_task_msg.copy()\n",
    "\n",
    "                response = openai.ChatCompletion.create(\n",
    "                  engine=ENGINE_NAME,\n",
    "                  messages = [task_sys_msg, new_task_msg],\n",
    "                  temperature=temp,\n",
    "                  max_tokens=20,\n",
    "                  top_p=top,\n",
    "                  frequency_penalty=0,\n",
    "                  presence_penalty=0,\n",
    "                  stop=None)\n",
    "            \n",
    "                prediction = response['choices'][0]['message']['content']                \n",
    "                cur_pred_l.append(json.loads(prediction)['prediction'])\n",
    "    \n",
    "                break\n",
    "    \n",
    "            except Exception as e:\n",
    "                print(e)\n",
    "                time.sleep(5)\n",
    "\n",
    "    mode_pred = max(set(cur_pred_l), key=cur_pred_l.count)\n",
    "    prediction_l.append(mode_pred)\n",
    "    subset_target_l.append(target_l[idx])\n",
    "    "
   ]
  },
  {
   "cell_type": "code",
   "execution_count": null,
   "id": "73c64ce0-4e24-41fc-925e-2d4f436b6789",
   "metadata": {},
   "outputs": [],
   "source": [
    "print(classification_report(subset_target_l, prediction_l, digits=3))"
   ]
  }
 ],
 "metadata": {
  "kernelspec": {
   "display_name": "gpt",
   "language": "python",
   "name": "gpt"
  },
  "language_info": {
   "codemirror_mode": {
    "name": "ipython",
    "version": 3
   },
   "file_extension": ".py",
   "mimetype": "text/x-python",
   "name": "python",
   "nbconvert_exporter": "python",
   "pygments_lexer": "ipython3",
   "version": "3.9.18"
  }
 },
 "nbformat": 4,
 "nbformat_minor": 5
}
